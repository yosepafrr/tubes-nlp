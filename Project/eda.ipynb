{
 "cells": [
  {
   "cell_type": "code",
   "execution_count": 28,
   "metadata": {},
   "outputs": [],
   "source": [
    "import pandas as pd"
   ]
  },
  {
   "cell_type": "code",
   "execution_count": 29,
   "metadata": {},
   "outputs": [],
   "source": [
    "df_train = pd.read_csv('./Dataset/hasil_scraping_skripsi.csv')"
   ]
  },
  {
   "cell_type": "code",
   "execution_count": 30,
   "metadata": {},
   "outputs": [
    {
     "data": {
      "text/html": [
       "<div>\n",
       "<style scoped>\n",
       "    .dataframe tbody tr th:only-of-type {\n",
       "        vertical-align: middle;\n",
       "    }\n",
       "\n",
       "    .dataframe tbody tr th {\n",
       "        vertical-align: top;\n",
       "    }\n",
       "\n",
       "    .dataframe thead th {\n",
       "        text-align: right;\n",
       "    }\n",
       "</style>\n",
       "<table border=\"1\" class=\"dataframe\">\n",
       "  <thead>\n",
       "    <tr style=\"text-align: right;\">\n",
       "      <th></th>\n",
       "      <th>Judul</th>\n",
       "      <th>Penulis</th>\n",
       "      <th>Link</th>\n",
       "      <th>Abstrak</th>\n",
       "    </tr>\n",
       "  </thead>\n",
       "  <tbody>\n",
       "    <tr>\n",
       "      <th>0</th>\n",
       "      <td>Klasifikasi Aritmia Sinyal ECG Menggunakan Tra...</td>\n",
       "      <td>Gusnam, Mu'thiana</td>\n",
       "      <td>http://repository.its.ac.id/95953/</td>\n",
       "      <td>Pengenalan kelainan aritmia seseorang diketahu...</td>\n",
       "    </tr>\n",
       "    <tr>\n",
       "      <th>1</th>\n",
       "      <td>Klasifikasi Jenis Tumor Otak Meningioma, Gliom...</td>\n",
       "      <td>Hajjanto, Ariq  Dreiki</td>\n",
       "      <td>http://repository.its.ac.id/110912/</td>\n",
       "      <td>Berdasarkan Global Cancer Statistic pada tahun...</td>\n",
       "    </tr>\n",
       "    <tr>\n",
       "      <th>2</th>\n",
       "      <td>Pembuatan Sistem Visual Question Answering Ber...</td>\n",
       "      <td>Hanifah, Asiyah</td>\n",
       "      <td>http://repository.its.ac.id/102392/</td>\n",
       "      <td>Seiring pesatnya perkembangan teknologi, Indon...</td>\n",
       "    </tr>\n",
       "    <tr>\n",
       "      <th>3</th>\n",
       "      <td>Analisis Prediksi Faktor Intensitas Tegangan P...</td>\n",
       "      <td>Hardian, Muhammad Akbar</td>\n",
       "      <td>http://repository.its.ac.id/98455/</td>\n",
       "      <td>Berdasarkan data SKK migas pada tahun 2016, 54...</td>\n",
       "    </tr>\n",
       "    <tr>\n",
       "      <th>4</th>\n",
       "      <td>Surrogate-Assisted Model Untuk Prediksi Umur K...</td>\n",
       "      <td>Hardian, Muhammad Akbar</td>\n",
       "      <td>http://repository.its.ac.id/108251/</td>\n",
       "      <td>Berdasarkan informasi yang disampaikan dalam p...</td>\n",
       "    </tr>\n",
       "  </tbody>\n",
       "</table>\n",
       "</div>"
      ],
      "text/plain": [
       "                                               Judul                  Penulis  \\\n",
       "0  Klasifikasi Aritmia Sinyal ECG Menggunakan Tra...        Gusnam, Mu'thiana   \n",
       "1  Klasifikasi Jenis Tumor Otak Meningioma, Gliom...   Hajjanto, Ariq  Dreiki   \n",
       "2  Pembuatan Sistem Visual Question Answering Ber...          Hanifah, Asiyah   \n",
       "3  Analisis Prediksi Faktor Intensitas Tegangan P...  Hardian, Muhammad Akbar   \n",
       "4  Surrogate-Assisted Model Untuk Prediksi Umur K...  Hardian, Muhammad Akbar   \n",
       "\n",
       "                                  Link  \\\n",
       "0   http://repository.its.ac.id/95953/   \n",
       "1  http://repository.its.ac.id/110912/   \n",
       "2  http://repository.its.ac.id/102392/   \n",
       "3   http://repository.its.ac.id/98455/   \n",
       "4  http://repository.its.ac.id/108251/   \n",
       "\n",
       "                                             Abstrak  \n",
       "0  Pengenalan kelainan aritmia seseorang diketahu...  \n",
       "1  Berdasarkan Global Cancer Statistic pada tahun...  \n",
       "2  Seiring pesatnya perkembangan teknologi, Indon...  \n",
       "3  Berdasarkan data SKK migas pada tahun 2016, 54...  \n",
       "4  Berdasarkan informasi yang disampaikan dalam p...  "
      ]
     },
     "execution_count": 30,
     "metadata": {},
     "output_type": "execute_result"
    }
   ],
   "source": [
    "df_train.head()"
   ]
  },
  {
   "cell_type": "code",
   "execution_count": 31,
   "metadata": {},
   "outputs": [
    {
     "data": {
      "text/plain": [
       "'Berdasarkan Global Cancer Statistic pada tahun 2020, kasus baru tumor otak dan CNS mencapai 308.102 dengan kematian mencapai 251.329 di seluruh dunia.  Di Indonesia sendiri, estimasi kejadian dan kematian pada tahun 2016 mencapai 6.337 dan 5.405 kasus. Banyak jenis tumor otak dengan variasi lokasi, ukuran, dan tingkat keganasan membuat melokalisasi dan klasifikasi tumor kompleks bagi ahli medis secara konvensional, menyebabkan kesalahan dalam penentuan jenis tumor otak karena perlu membaca hasil citra dalam jumlah yang sangat banyak. Keakuratan klasifikasi konvensional dapat dipengaruhi oleh beberapa faktor, seperti perbedaan subjektivitas individu dalam mengenali lokasi tumor, waktu, ketelitian, kelelahan, dan faktor manusia lainnya. Maka dari itu, dibutuhkan suatu metode dalam menghasilkan diagnosis tumor yang akurat dengan machine learning. Akan tetapi, penelitian yang menggunakan pendekatan machine learning sangat rentan akan overfitting disebabkan kurangnya dataset ataupun model arsitektur yang digunakan dan juga lamanya proses komputasi yang dibutuhkan. Oleh sebab itu, Pada penelitian ini diusulkan sistem klasifikasi hibrida dengan bantuan machine learning, yaitu menggunakan arsitektur/model VGG-16 dan Support Vector Machine (SVM). VGG-16 memiliki keunggulan dalam ekstraksi fitur hierarkis dan invariansi spasial yang memungkinkan identifikasi tumor dengan akurasi lebih tinggi. Output fitur jenis tumor otak dari VGG-16 direduksi menggunakan Principal Component Analysis (PCA), lalu diklasifikasi dengan bantuan SVM serta dioptimalkan dengan pengujian kombinasi kernel dan hyperparameter. Performa arsitektur dievaluasi menggunakan performance metrics dan komparasi model sebelumnya, yang memungkinkan penilaian objektif terhadap hasil yang dicapai. Hasil penelitian memberikan hasil untuk masing-masing metrik akurasi, presisi, recall¸f1-score, dan spesifisitas secara berturut-turut sebesar 96.9%, 97.3%, 96.67%, 96.67%, dan 99.97% dengan menggunakan kernel polynomial dengan hyperparameter C, degree, dan coef0 sebesar 10, 3, dan 0.5.============================================================According to the 2020 Global Cancer Statistics, there were 308,102 new cases of brain and CNS tumors, resulting in 251,329 deaths worldwide. In Indonesia alone, the estimated incidence and mortality in 2016 were 6,337 and 5,405 cases, respectively. The various types of brain tumors, with variations in location, size, and malignancy levels, make localization and classification complex for conventional medical professionals, leading to errors in brain tumor determination due to the need to analyze a vast amount of imaging results. Conventional classification accuracy can be influenced by factors such as individual subjectivity in recognizing tumor locations, timing, precision, fatigue, and other human factors. Therefore, a method is needed to produce accurate tumor diagnoses using machine learning. However, research using machine learning approaches is highly susceptible to overfitting due to the lack of datasets or the architectural models used and the lengthy computational processes required. Hence, this study proposes a hybrid classification system with the assistance of machine learning, utilizing the VGG-16 architecture/model and Support Vector Machine (SVM). VGG-16 excels in hierarchical feature extraction and spatial invariance, enabling higher accuracy in tumor identification. The output features of brain tumor types from VGG-16 are reduced using Principal Component Analysis (PCA) and then classified with the help of SVM, optimized by testing combinations of kernels and hyperparameters. The architecture performance is evaluated using performance metrics and comparison with previous models, allowing for an objective assessment of the achieved results. The study results for each metric of accuracy, precision, recall, f1-score, and specificity were 96.9%, 97.3%, 96.67%, 96.67%, and 99.97%, respectively, using the polynomial kernel with hyperparameters C, degree, and coef0 of 10, 3, and 0.5.'"
      ]
     },
     "execution_count": 31,
     "metadata": {},
     "output_type": "execute_result"
    }
   ],
   "source": [
    "df_train.loc[1, 'Abstrak']"
   ]
  },
  {
   "cell_type": "code",
   "execution_count": 32,
   "metadata": {},
   "outputs": [
    {
     "name": "stdout",
     "output_type": "stream",
     "text": [
      "<class 'pandas.core.frame.DataFrame'>\n",
      "RangeIndex: 118 entries, 0 to 117\n",
      "Data columns (total 4 columns):\n",
      " #   Column   Non-Null Count  Dtype \n",
      "---  ------   --------------  ----- \n",
      " 0   Judul    118 non-null    object\n",
      " 1   Penulis  118 non-null    object\n",
      " 2   Link     118 non-null    object\n",
      " 3   Abstrak  118 non-null    object\n",
      "dtypes: object(4)\n",
      "memory usage: 3.8+ KB\n"
     ]
    }
   ],
   "source": [
    "df_train.info()"
   ]
  },
  {
   "cell_type": "markdown",
   "metadata": {},
   "source": [
    "df.missing_value()"
   ]
  },
  {
   "cell_type": "code",
   "execution_count": 33,
   "metadata": {},
   "outputs": [
    {
     "data": {
      "text/plain": [
       "Judul      0\n",
       "Penulis    0\n",
       "Link       0\n",
       "Abstrak    0\n",
       "dtype: int64"
      ]
     },
     "execution_count": 33,
     "metadata": {},
     "output_type": "execute_result"
    }
   ],
   "source": [
    "df_train.isnull().sum()"
   ]
  },
  {
   "cell_type": "markdown",
   "metadata": {},
   "source": [
    "# Data test"
   ]
  },
  {
   "cell_type": "code",
   "execution_count": 34,
   "metadata": {},
   "outputs": [],
   "source": [
    "df_test = pd.read_csv('./Dataset/data_test.csv')"
   ]
  },
  {
   "cell_type": "code",
   "execution_count": 35,
   "metadata": {},
   "outputs": [
    {
     "name": "stdout",
     "output_type": "stream",
     "text": [
      "<class 'pandas.core.frame.DataFrame'>\n",
      "RangeIndex: 50 entries, 0 to 49\n",
      "Data columns (total 4 columns):\n",
      " #   Column   Non-Null Count  Dtype \n",
      "---  ------   --------------  ----- \n",
      " 0   Judul    50 non-null     object\n",
      " 1   Penulis  50 non-null     object\n",
      " 2   Link     50 non-null     object\n",
      " 3   Abstrak  50 non-null     object\n",
      "dtypes: object(4)\n",
      "memory usage: 1.7+ KB\n"
     ]
    }
   ],
   "source": [
    "df_test.info()"
   ]
  },
  {
   "cell_type": "markdown",
   "metadata": {},
   "source": [
    "# EDA Dataset yang sudah dilakukan pra proses"
   ]
  },
  {
   "cell_type": "code",
   "execution_count": 48,
   "metadata": {},
   "outputs": [],
   "source": [
    "praprocessed_dataset = pd.read_csv('./Dataset/preprocessed_dataset.csv')"
   ]
  },
  {
   "cell_type": "code",
   "execution_count": 49,
   "metadata": {},
   "outputs": [
    {
     "data": {
      "text/html": [
       "<div>\n",
       "<style scoped>\n",
       "    .dataframe tbody tr th:only-of-type {\n",
       "        vertical-align: middle;\n",
       "    }\n",
       "\n",
       "    .dataframe tbody tr th {\n",
       "        vertical-align: top;\n",
       "    }\n",
       "\n",
       "    .dataframe thead th {\n",
       "        text-align: right;\n",
       "    }\n",
       "</style>\n",
       "<table border=\"1\" class=\"dataframe\">\n",
       "  <thead>\n",
       "    <tr style=\"text-align: right;\">\n",
       "      <th></th>\n",
       "      <th>Judul</th>\n",
       "      <th>Penulis</th>\n",
       "      <th>Link</th>\n",
       "      <th>Abstrak</th>\n",
       "      <th>Preprocessed_Judul</th>\n",
       "      <th>Preprocessed_Abstrak</th>\n",
       "    </tr>\n",
       "  </thead>\n",
       "  <tbody>\n",
       "    <tr>\n",
       "      <th>0</th>\n",
       "      <td>Klasifikasi Aritmia Sinyal ECG Menggunakan Tra...</td>\n",
       "      <td>Gusnam, Mu'thiana</td>\n",
       "      <td>http://repository.its.ac.id/95953/</td>\n",
       "      <td>Pengenalan kelainan aritmia seseorang diketahu...</td>\n",
       "      <td>klasifikasi aritmia sinyal ecg transformasi wa...</td>\n",
       "      <td>kenal lain aritmia rekam aktivitas jantung ele...</td>\n",
       "    </tr>\n",
       "    <tr>\n",
       "      <th>1</th>\n",
       "      <td>Klasifikasi Jenis Tumor Otak Meningioma, Gliom...</td>\n",
       "      <td>Hajjanto, Ariq  Dreiki</td>\n",
       "      <td>http://repository.its.ac.id/110912/</td>\n",
       "      <td>Berdasarkan Global Cancer Statistic pada tahun...</td>\n",
       "      <td>klasifikasi jenis tumor otak meningioma glioma...</td>\n",
       "      <td>dasar global cancer statistic 2020 tumor otak ...</td>\n",
       "    </tr>\n",
       "    <tr>\n",
       "      <th>2</th>\n",
       "      <td>Pembuatan Sistem Visual Question Answering Ber...</td>\n",
       "      <td>Hanifah, Asiyah</td>\n",
       "      <td>http://repository.its.ac.id/102392/</td>\n",
       "      <td>Seiring pesatnya perkembangan teknologi, Indon...</td>\n",
       "      <td>buat sistem visual question answering bas web ...</td>\n",
       "      <td>iring pesat kembang teknologi indonesia gencar...</td>\n",
       "    </tr>\n",
       "    <tr>\n",
       "      <th>3</th>\n",
       "      <td>Analisis Prediksi Faktor Intensitas Tegangan P...</td>\n",
       "      <td>Hardian, Muhammad Akbar</td>\n",
       "      <td>http://repository.its.ac.id/98455/</td>\n",
       "      <td>Berdasarkan data SKK migas pada tahun 2016, 54...</td>\n",
       "      <td>analisis prediksi faktor intensitas tegang sam...</td>\n",
       "      <td>dasar data skk migas 2016 5465 anjung lepas pa...</td>\n",
       "    </tr>\n",
       "    <tr>\n",
       "      <th>4</th>\n",
       "      <td>Surrogate-Assisted Model Untuk Prediksi Umur K...</td>\n",
       "      <td>Hardian, Muhammad Akbar</td>\n",
       "      <td>http://repository.its.ac.id/108251/</td>\n",
       "      <td>Berdasarkan informasi yang disampaikan dalam p...</td>\n",
       "      <td>surrogateassisted model prediksi umur lelah sa...</td>\n",
       "      <td>dasar informasi presentasi skk migas the 3rd i...</td>\n",
       "    </tr>\n",
       "  </tbody>\n",
       "</table>\n",
       "</div>"
      ],
      "text/plain": [
       "                                               Judul                  Penulis  \\\n",
       "0  Klasifikasi Aritmia Sinyal ECG Menggunakan Tra...        Gusnam, Mu'thiana   \n",
       "1  Klasifikasi Jenis Tumor Otak Meningioma, Gliom...   Hajjanto, Ariq  Dreiki   \n",
       "2  Pembuatan Sistem Visual Question Answering Ber...          Hanifah, Asiyah   \n",
       "3  Analisis Prediksi Faktor Intensitas Tegangan P...  Hardian, Muhammad Akbar   \n",
       "4  Surrogate-Assisted Model Untuk Prediksi Umur K...  Hardian, Muhammad Akbar   \n",
       "\n",
       "                                  Link  \\\n",
       "0   http://repository.its.ac.id/95953/   \n",
       "1  http://repository.its.ac.id/110912/   \n",
       "2  http://repository.its.ac.id/102392/   \n",
       "3   http://repository.its.ac.id/98455/   \n",
       "4  http://repository.its.ac.id/108251/   \n",
       "\n",
       "                                             Abstrak  \\\n",
       "0  Pengenalan kelainan aritmia seseorang diketahu...   \n",
       "1  Berdasarkan Global Cancer Statistic pada tahun...   \n",
       "2  Seiring pesatnya perkembangan teknologi, Indon...   \n",
       "3  Berdasarkan data SKK migas pada tahun 2016, 54...   \n",
       "4  Berdasarkan informasi yang disampaikan dalam p...   \n",
       "\n",
       "                                  Preprocessed_Judul  \\\n",
       "0  klasifikasi aritmia sinyal ecg transformasi wa...   \n",
       "1  klasifikasi jenis tumor otak meningioma glioma...   \n",
       "2  buat sistem visual question answering bas web ...   \n",
       "3  analisis prediksi faktor intensitas tegang sam...   \n",
       "4  surrogateassisted model prediksi umur lelah sa...   \n",
       "\n",
       "                                Preprocessed_Abstrak  \n",
       "0  kenal lain aritmia rekam aktivitas jantung ele...  \n",
       "1  dasar global cancer statistic 2020 tumor otak ...  \n",
       "2  iring pesat kembang teknologi indonesia gencar...  \n",
       "3  dasar data skk migas 2016 5465 anjung lepas pa...  \n",
       "4  dasar informasi presentasi skk migas the 3rd i...  "
      ]
     },
     "execution_count": 49,
     "metadata": {},
     "output_type": "execute_result"
    }
   ],
   "source": [
    "praprocessed_dataset.head()"
   ]
  },
  {
   "cell_type": "code",
   "execution_count": 50,
   "metadata": {},
   "outputs": [
    {
     "name": "stdout",
     "output_type": "stream",
     "text": [
      "Judul:  Klasifikasi Jenis Tumor Otak Meningioma, Glioma, Dan Pituitari Berbasis Hybrid Vgg-16 Dan Svm Untuk Diagnosis Praoperasi.\n",
      "Preprocessed judul:  klasifikasi jenis tumor otak meningioma glioma pituitari bas hybrid vgg16 svm diagnosis praoperasi\n"
     ]
    }
   ],
   "source": [
    "print('Judul: ', df_train.loc[1, 'Judul'])\n",
    "print('Preprocessed judul: ', praprocessed_dataset.loc[1, 'Preprocessed_Judul'])"
   ]
  },
  {
   "cell_type": "code",
   "execution_count": 52,
   "metadata": {},
   "outputs": [
    {
     "name": "stdout",
     "output_type": "stream",
     "text": [
      "Abstrak:  Berdasarkan Global Cancer Statistic pada tahun 2020, kasus baru tumor otak dan CNS mencapai 308.102 dengan kematian mencapai 251.329 di seluruh dunia.  Di Indonesia sendiri, estimasi kejadian dan kematian pada tahun 2016 mencapai 6.337 dan 5.405 kasus. Banyak jenis tumor otak dengan variasi lokasi, ukuran, dan tingkat keganasan membuat melokalisasi dan klasifikasi tumor kompleks bagi ahli medis secara konvensional, menyebabkan kesalahan dalam penentuan jenis tumor otak karena perlu membaca hasil citra dalam jumlah yang sangat banyak. Keakuratan klasifikasi konvensional dapat dipengaruhi oleh beberapa faktor, seperti perbedaan subjektivitas individu dalam mengenali lokasi tumor, waktu, ketelitian, kelelahan, dan faktor manusia lainnya. Maka dari itu, dibutuhkan suatu metode dalam menghasilkan diagnosis tumor yang akurat dengan machine learning. Akan tetapi, penelitian yang menggunakan pendekatan machine learning sangat rentan akan overfitting disebabkan kurangnya dataset ataupun model arsitektur yang digunakan dan juga lamanya proses komputasi yang dibutuhkan. Oleh sebab itu, Pada penelitian ini diusulkan sistem klasifikasi hibrida dengan bantuan machine learning, yaitu menggunakan arsitektur/model VGG-16 dan Support Vector Machine (SVM). VGG-16 memiliki keunggulan dalam ekstraksi fitur hierarkis dan invariansi spasial yang memungkinkan identifikasi tumor dengan akurasi lebih tinggi. Output fitur jenis tumor otak dari VGG-16 direduksi menggunakan Principal Component Analysis (PCA), lalu diklasifikasi dengan bantuan SVM serta dioptimalkan dengan pengujian kombinasi kernel dan hyperparameter. Performa arsitektur dievaluasi menggunakan performance metrics dan komparasi model sebelumnya, yang memungkinkan penilaian objektif terhadap hasil yang dicapai. Hasil penelitian memberikan hasil untuk masing-masing metrik akurasi, presisi, recall¸f1-score, dan spesifisitas secara berturut-turut sebesar 96.9%, 97.3%, 96.67%, 96.67%, dan 99.97% dengan menggunakan kernel polynomial dengan hyperparameter C, degree, dan coef0 sebesar 10, 3, dan 0.5.============================================================According to the 2020 Global Cancer Statistics, there were 308,102 new cases of brain and CNS tumors, resulting in 251,329 deaths worldwide. In Indonesia alone, the estimated incidence and mortality in 2016 were 6,337 and 5,405 cases, respectively. The various types of brain tumors, with variations in location, size, and malignancy levels, make localization and classification complex for conventional medical professionals, leading to errors in brain tumor determination due to the need to analyze a vast amount of imaging results. Conventional classification accuracy can be influenced by factors such as individual subjectivity in recognizing tumor locations, timing, precision, fatigue, and other human factors. Therefore, a method is needed to produce accurate tumor diagnoses using machine learning. However, research using machine learning approaches is highly susceptible to overfitting due to the lack of datasets or the architectural models used and the lengthy computational processes required. Hence, this study proposes a hybrid classification system with the assistance of machine learning, utilizing the VGG-16 architecture/model and Support Vector Machine (SVM). VGG-16 excels in hierarchical feature extraction and spatial invariance, enabling higher accuracy in tumor identification. The output features of brain tumor types from VGG-16 are reduced using Principal Component Analysis (PCA) and then classified with the help of SVM, optimized by testing combinations of kernels and hyperparameters. The architecture performance is evaluated using performance metrics and comparison with previous models, allowing for an objective assessment of the achieved results. The study results for each metric of accuracy, precision, recall, f1-score, and specificity were 96.9%, 97.3%, 96.67%, 96.67%, and 99.97%, respectively, using the polynomial kernel with hyperparameters C, degree, and coef0 of 10, 3, and 0.5.\n",
      "Preprocessed abstrak:  dasar global cancer statistic 2020 tumor otak cns capai 308102 mati capai 251329 dunia indonesia estimasi jadi mati 2016 capai 6337 5405 jenis tumor otak variasi lokasi ukur tingkat ganas lokalisasi klasifikasi tumor kompleks ahli medis konvensional sebab salah tentu jenis tumor otak baca hasil citra akurat klasifikasi konvensional pengaruh faktor beda subjektivitas individu nali lokasi tumor teliti lelah faktor manusia butuh metode hasil diagnosis tumor akurat machine learning teliti dekat machine learning rentan overfitting sebab kurang dataset model arsitektur proses komputasi butuh teliti usul sistem klasifikasi hibrida bantu machine learning arsitekturmodel vgg16 support vector machine svm vgg16 milik unggul ekstraksi fitur hierarkis invariansi spasial identifikasi tumor akurasi output fitur jenis tumor otak vgg16 reduksi principal component analysis pca klasifikasi bantu svm optimal uji kombinasi kernel hyperparameter performa arsitektur evaluasi performance metrics komparasi model nilai objektif hasil capai hasil teliti hasil masingmasing metrik akurasi presisi recall f1score spesifisitas berturutturut 969 973 9667 9667 9997 kernel polynomial hyperparameter c degree coef0 10 3 05according to the 2020 global cancer statistics there were 308102 new cases of brain and cns tumors resulting in 251329 deaths worldwide in indonesia alone the estimated incidence and mortality in 2016 were 6337 and 5405 cases respectively the various types of brain tumors with variations in location size and malignancy levels make localization and classification complex for conventional medical professionals leading to errors in brain tumor determination due to the need to analyze a vast amount of imaging results conventional classification accuracy can be influenced by factors such as individual subjectivity in recognizing tumor locations timing precision fatigue and other human factors therefore a method is needed to produce accurate tumor diagnoses using machine learning however research using machine learning approaches is highly susceptible to overfitting due to the lack of datasets or the architectural models used and the lengthy computational processes required hence this study proposes a hybrid classification system with the assistance of machine learning utilizing the vgg16 architecturemodel and support vector machine svm vgg16 excels in hierarchical feature extraction and spatial invariance enabling higher accuracy in tumor identification the output features of brain tumor types from vgg16 are reduced using principal component analysis pca and then classified with the help of svm optimized by testing combinations of kernels and hyperparameters the architecture performance is evaluated using performance metrics and comparison with previous models allowing for an objective assessment of the achieved results the study results for each metric of accuracy precision recall f1score and specificity were 969 973 9667 9667 and 9997 respectively using the polynomial kernel with hyperparameters c degree and coef0 of 10 3 and 05\n"
     ]
    }
   ],
   "source": [
    "print('Abstrak: ', df_train.loc[1, 'Abstrak'])\n",
    "print('Preprocessed abstrak: ', praprocessed_dataset.loc[1, 'Preprocessed_Abstrak'])"
   ]
  },
  {
   "cell_type": "markdown",
   "metadata": {},
   "source": [
    "# Data test"
   ]
  },
  {
   "cell_type": "code",
   "execution_count": 53,
   "metadata": {},
   "outputs": [],
   "source": [
    "data_test = pd.read_csv('./Dataset/data_test.csv')\n",
    "preprocessed_datatest = pd.read_csv('./Dataset/preprocessed_datatest.csv')"
   ]
  },
  {
   "cell_type": "code",
   "execution_count": 54,
   "metadata": {},
   "outputs": [
    {
     "data": {
      "text/html": [
       "<div>\n",
       "<style scoped>\n",
       "    .dataframe tbody tr th:only-of-type {\n",
       "        vertical-align: middle;\n",
       "    }\n",
       "\n",
       "    .dataframe tbody tr th {\n",
       "        vertical-align: top;\n",
       "    }\n",
       "\n",
       "    .dataframe thead th {\n",
       "        text-align: right;\n",
       "    }\n",
       "</style>\n",
       "<table border=\"1\" class=\"dataframe\">\n",
       "  <thead>\n",
       "    <tr style=\"text-align: right;\">\n",
       "      <th></th>\n",
       "      <th>Judul</th>\n",
       "      <th>Penulis</th>\n",
       "      <th>Link</th>\n",
       "      <th>Abstrak</th>\n",
       "    </tr>\n",
       "  </thead>\n",
       "  <tbody>\n",
       "    <tr>\n",
       "      <th>0</th>\n",
       "      <td>Implementasi Segmentasi Pakaian Menggunakan Me...</td>\n",
       "      <td>Gita, Kartika Diva Asmara</td>\n",
       "      <td>http://repository.its.ac.id/116398/</td>\n",
       "      <td>Implementasi Mask R-CNN merupakan pendekatan u...</td>\n",
       "    </tr>\n",
       "    <tr>\n",
       "      <th>1</th>\n",
       "      <td>Sistem Deteksi Android Malware Menggunakan Met...</td>\n",
       "      <td>Abidin, Zainal</td>\n",
       "      <td>http://repository.its.ac.id/99166/</td>\n",
       "      <td>Malware merupakan perangkat lunak jahat yang d...</td>\n",
       "    </tr>\n",
       "    <tr>\n",
       "      <th>2</th>\n",
       "      <td>Klasifikasi Penyakit Berdasarkan Foto Rontgen ...</td>\n",
       "      <td>Abiyyi, Muhammad Zuhdi Afi</td>\n",
       "      <td>http://repository.its.ac.id/98468/</td>\n",
       "      <td>Pada tahun 2019 seluruh dunia terdampak pandem...</td>\n",
       "    </tr>\n",
       "    <tr>\n",
       "      <th>3</th>\n",
       "      <td>Analisis Sentimen Berdasar Aspek Review Kuline...</td>\n",
       "      <td>Ajipangestu, Drajad Bima</td>\n",
       "      <td>http://repository.its.ac.id/84978/</td>\n",
       "      <td>Makanan merupakan hal yang selalu dekat dengan...</td>\n",
       "    </tr>\n",
       "    <tr>\n",
       "      <th>4</th>\n",
       "      <td>PENGENALAN WAJAH MENGGUNAKAN METODE DEEP NEURA...</td>\n",
       "      <td>Akbar, Afrizal Laksita</td>\n",
       "      <td>http://repository.its.ac.id/78130/</td>\n",
       "      <td>Metode pengenalan identitas dilakukan dengan m...</td>\n",
       "    </tr>\n",
       "  </tbody>\n",
       "</table>\n",
       "</div>"
      ],
      "text/plain": [
       "                                               Judul  \\\n",
       "0  Implementasi Segmentasi Pakaian Menggunakan Me...   \n",
       "1  Sistem Deteksi Android Malware Menggunakan Met...   \n",
       "2  Klasifikasi Penyakit Berdasarkan Foto Rontgen ...   \n",
       "3  Analisis Sentimen Berdasar Aspek Review Kuline...   \n",
       "4  PENGENALAN WAJAH MENGGUNAKAN METODE DEEP NEURA...   \n",
       "\n",
       "                      Penulis                                 Link  \\\n",
       "0   Gita, Kartika Diva Asmara  http://repository.its.ac.id/116398/   \n",
       "1              Abidin, Zainal   http://repository.its.ac.id/99166/   \n",
       "2  Abiyyi, Muhammad Zuhdi Afi   http://repository.its.ac.id/98468/   \n",
       "3    Ajipangestu, Drajad Bima   http://repository.its.ac.id/84978/   \n",
       "4      Akbar, Afrizal Laksita   http://repository.its.ac.id/78130/   \n",
       "\n",
       "                                             Abstrak  \n",
       "0  Implementasi Mask R-CNN merupakan pendekatan u...  \n",
       "1  Malware merupakan perangkat lunak jahat yang d...  \n",
       "2  Pada tahun 2019 seluruh dunia terdampak pandem...  \n",
       "3  Makanan merupakan hal yang selalu dekat dengan...  \n",
       "4  Metode pengenalan identitas dilakukan dengan m...  "
      ]
     },
     "execution_count": 54,
     "metadata": {},
     "output_type": "execute_result"
    }
   ],
   "source": [
    "data_test.head()"
   ]
  },
  {
   "cell_type": "code",
   "execution_count": 55,
   "metadata": {},
   "outputs": [
    {
     "data": {
      "text/html": [
       "<div>\n",
       "<style scoped>\n",
       "    .dataframe tbody tr th:only-of-type {\n",
       "        vertical-align: middle;\n",
       "    }\n",
       "\n",
       "    .dataframe tbody tr th {\n",
       "        vertical-align: top;\n",
       "    }\n",
       "\n",
       "    .dataframe thead th {\n",
       "        text-align: right;\n",
       "    }\n",
       "</style>\n",
       "<table border=\"1\" class=\"dataframe\">\n",
       "  <thead>\n",
       "    <tr style=\"text-align: right;\">\n",
       "      <th></th>\n",
       "      <th>Judul</th>\n",
       "      <th>Penulis</th>\n",
       "      <th>Link</th>\n",
       "      <th>Abstrak</th>\n",
       "      <th>Preprocessed_Judul</th>\n",
       "      <th>Preprocessed_Abstrak</th>\n",
       "    </tr>\n",
       "  </thead>\n",
       "  <tbody>\n",
       "    <tr>\n",
       "      <th>0</th>\n",
       "      <td>Implementasi Segmentasi Pakaian Menggunakan Me...</td>\n",
       "      <td>Gita, Kartika Diva Asmara</td>\n",
       "      <td>http://repository.its.ac.id/116398/</td>\n",
       "      <td>Implementasi Mask R-CNN merupakan pendekatan u...</td>\n",
       "      <td>implementasi segmentasi pakai metode mask rcnn</td>\n",
       "      <td>implementasi mask rcnn dekat segmentasi objek ...</td>\n",
       "    </tr>\n",
       "    <tr>\n",
       "      <th>1</th>\n",
       "      <td>Sistem Deteksi Android Malware Menggunakan Met...</td>\n",
       "      <td>Abidin, Zainal</td>\n",
       "      <td>http://repository.its.ac.id/99166/</td>\n",
       "      <td>Malware merupakan perangkat lunak jahat yang d...</td>\n",
       "      <td>sistem deteksi android malware metode gated re...</td>\n",
       "      <td>malware perangkat lunak jahat rancang tuju rus...</td>\n",
       "    </tr>\n",
       "    <tr>\n",
       "      <th>2</th>\n",
       "      <td>Klasifikasi Penyakit Berdasarkan Foto Rontgen ...</td>\n",
       "      <td>Abiyyi, Muhammad Zuhdi Afi</td>\n",
       "      <td>http://repository.its.ac.id/98468/</td>\n",
       "      <td>Pada tahun 2019 seluruh dunia terdampak pandem...</td>\n",
       "      <td>klasifikasi sakit dasar foto rontgen thorax me...</td>\n",
       "      <td>2019 dunia dampak pandemi covid19 covid19 seba...</td>\n",
       "    </tr>\n",
       "    <tr>\n",
       "      <th>3</th>\n",
       "      <td>Analisis Sentimen Berdasar Aspek Review Kuline...</td>\n",
       "      <td>Ajipangestu, Drajad Bima</td>\n",
       "      <td>http://repository.its.ac.id/84978/</td>\n",
       "      <td>Makanan merupakan hal yang selalu dekat dengan...</td>\n",
       "      <td>analisis sentimen dasar aspek review kuliner r...</td>\n",
       "      <td>makan iring kembang duduk bisnis kuliner resto...</td>\n",
       "    </tr>\n",
       "    <tr>\n",
       "      <th>4</th>\n",
       "      <td>PENGENALAN WAJAH MENGGUNAKAN METODE DEEP NEURA...</td>\n",
       "      <td>Akbar, Afrizal Laksita</td>\n",
       "      <td>http://repository.its.ac.id/78130/</td>\n",
       "      <td>Metode pengenalan identitas dilakukan dengan m...</td>\n",
       "      <td>kenal wajah metode deep neural networks padu m...</td>\n",
       "      <td>metode kenal identitas wajah sidik jari telapa...</td>\n",
       "    </tr>\n",
       "  </tbody>\n",
       "</table>\n",
       "</div>"
      ],
      "text/plain": [
       "                                               Judul  \\\n",
       "0  Implementasi Segmentasi Pakaian Menggunakan Me...   \n",
       "1  Sistem Deteksi Android Malware Menggunakan Met...   \n",
       "2  Klasifikasi Penyakit Berdasarkan Foto Rontgen ...   \n",
       "3  Analisis Sentimen Berdasar Aspek Review Kuline...   \n",
       "4  PENGENALAN WAJAH MENGGUNAKAN METODE DEEP NEURA...   \n",
       "\n",
       "                      Penulis                                 Link  \\\n",
       "0   Gita, Kartika Diva Asmara  http://repository.its.ac.id/116398/   \n",
       "1              Abidin, Zainal   http://repository.its.ac.id/99166/   \n",
       "2  Abiyyi, Muhammad Zuhdi Afi   http://repository.its.ac.id/98468/   \n",
       "3    Ajipangestu, Drajad Bima   http://repository.its.ac.id/84978/   \n",
       "4      Akbar, Afrizal Laksita   http://repository.its.ac.id/78130/   \n",
       "\n",
       "                                             Abstrak  \\\n",
       "0  Implementasi Mask R-CNN merupakan pendekatan u...   \n",
       "1  Malware merupakan perangkat lunak jahat yang d...   \n",
       "2  Pada tahun 2019 seluruh dunia terdampak pandem...   \n",
       "3  Makanan merupakan hal yang selalu dekat dengan...   \n",
       "4  Metode pengenalan identitas dilakukan dengan m...   \n",
       "\n",
       "                                  Preprocessed_Judul  \\\n",
       "0     implementasi segmentasi pakai metode mask rcnn   \n",
       "1  sistem deteksi android malware metode gated re...   \n",
       "2  klasifikasi sakit dasar foto rontgen thorax me...   \n",
       "3  analisis sentimen dasar aspek review kuliner r...   \n",
       "4  kenal wajah metode deep neural networks padu m...   \n",
       "\n",
       "                                Preprocessed_Abstrak  \n",
       "0  implementasi mask rcnn dekat segmentasi objek ...  \n",
       "1  malware perangkat lunak jahat rancang tuju rus...  \n",
       "2  2019 dunia dampak pandemi covid19 covid19 seba...  \n",
       "3  makan iring kembang duduk bisnis kuliner resto...  \n",
       "4  metode kenal identitas wajah sidik jari telapa...  "
      ]
     },
     "execution_count": 55,
     "metadata": {},
     "output_type": "execute_result"
    }
   ],
   "source": [
    "preprocessed_datatest.head()"
   ]
  },
  {
   "cell_type": "code",
   "execution_count": 56,
   "metadata": {},
   "outputs": [
    {
     "name": "stdout",
     "output_type": "stream",
     "text": [
      "<class 'pandas.core.frame.DataFrame'>\n",
      "RangeIndex: 50 entries, 0 to 49\n",
      "Data columns (total 6 columns):\n",
      " #   Column                Non-Null Count  Dtype \n",
      "---  ------                --------------  ----- \n",
      " 0   Judul                 50 non-null     object\n",
      " 1   Penulis               50 non-null     object\n",
      " 2   Link                  50 non-null     object\n",
      " 3   Abstrak               50 non-null     object\n",
      " 4   Preprocessed_Judul    50 non-null     object\n",
      " 5   Preprocessed_Abstrak  50 non-null     object\n",
      "dtypes: object(6)\n",
      "memory usage: 2.5+ KB\n"
     ]
    }
   ],
   "source": [
    "preprocessed_datatest.info()"
   ]
  }
 ],
 "metadata": {
  "kernelspec": {
   "display_name": "Python 3",
   "language": "python",
   "name": "python3"
  },
  "language_info": {
   "codemirror_mode": {
    "name": "ipython",
    "version": 3
   },
   "file_extension": ".py",
   "mimetype": "text/x-python",
   "name": "python",
   "nbconvert_exporter": "python",
   "pygments_lexer": "ipython3",
   "version": "3.11.9"
  }
 },
 "nbformat": 4,
 "nbformat_minor": 2
}
