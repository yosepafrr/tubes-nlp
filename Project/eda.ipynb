{
 "cells": [
  {
   "cell_type": "code",
   "execution_count": 1,
   "metadata": {},
   "outputs": [],
   "source": [
    "import pandas as pd"
   ]
  },
  {
   "cell_type": "code",
   "execution_count": 2,
   "metadata": {},
   "outputs": [],
   "source": [
    "df = pd.read_csv('hasil_scraping_skripsi.csv')"
   ]
  },
  {
   "cell_type": "code",
   "execution_count": 14,
   "metadata": {},
   "outputs": [
    {
     "data": {
      "text/html": [
       "<div>\n",
       "<style scoped>\n",
       "    .dataframe tbody tr th:only-of-type {\n",
       "        vertical-align: middle;\n",
       "    }\n",
       "\n",
       "    .dataframe tbody tr th {\n",
       "        vertical-align: top;\n",
       "    }\n",
       "\n",
       "    .dataframe thead th {\n",
       "        text-align: right;\n",
       "    }\n",
       "</style>\n",
       "<table border=\"1\" class=\"dataframe\">\n",
       "  <thead>\n",
       "    <tr style=\"text-align: right;\">\n",
       "      <th></th>\n",
       "      <th>Judul</th>\n",
       "      <th>Penulis</th>\n",
       "      <th>Link</th>\n",
       "      <th>Abstrak</th>\n",
       "    </tr>\n",
       "  </thead>\n",
       "  <tbody>\n",
       "    <tr>\n",
       "      <th>0</th>\n",
       "      <td>Sistem Deteksi Android Malware Menggunakan Met...</td>\n",
       "      <td>Abidin, Zainal</td>\n",
       "      <td>http://repository.its.ac.id/99166/</td>\n",
       "      <td>Malware merupakan perangkat lunak jahat yang d...</td>\n",
       "    </tr>\n",
       "    <tr>\n",
       "      <th>1</th>\n",
       "      <td>Klasifikasi Penyakit Berdasarkan Foto Rontgen ...</td>\n",
       "      <td>Abiyyi, Muhammad Zuhdi Afi</td>\n",
       "      <td>http://repository.its.ac.id/98468/</td>\n",
       "      <td>Pada tahun 2019 seluruh dunia terdampak pandem...</td>\n",
       "    </tr>\n",
       "    <tr>\n",
       "      <th>2</th>\n",
       "      <td>Analisis Sentimen Berdasar Aspek Review Kuline...</td>\n",
       "      <td>Ajipangestu, Drajad Bima</td>\n",
       "      <td>http://repository.its.ac.id/84978/</td>\n",
       "      <td>Makanan merupakan hal yang selalu dekat dengan...</td>\n",
       "    </tr>\n",
       "    <tr>\n",
       "      <th>3</th>\n",
       "      <td>PENGENALAN WAJAH MENGGUNAKAN METODE DEEP NEURA...</td>\n",
       "      <td>Akbar, Afrizal Laksita</td>\n",
       "      <td>http://repository.its.ac.id/78130/</td>\n",
       "      <td>Metode pengenalan identitas dilakukan dengan m...</td>\n",
       "    </tr>\n",
       "    <tr>\n",
       "      <th>4</th>\n",
       "      <td>Evaluasi Pemeliharaan Extruder Machine Dalam R...</td>\n",
       "      <td>Akbar, Ilham</td>\n",
       "      <td>http://repository.its.ac.id/95744/</td>\n",
       "      <td>PT. WTR merupakan perusahaan yang bergerak dal...</td>\n",
       "    </tr>\n",
       "  </tbody>\n",
       "</table>\n",
       "</div>"
      ],
      "text/plain": [
       "                                               Judul  \\\n",
       "0  Sistem Deteksi Android Malware Menggunakan Met...   \n",
       "1  Klasifikasi Penyakit Berdasarkan Foto Rontgen ...   \n",
       "2  Analisis Sentimen Berdasar Aspek Review Kuline...   \n",
       "3  PENGENALAN WAJAH MENGGUNAKAN METODE DEEP NEURA...   \n",
       "4  Evaluasi Pemeliharaan Extruder Machine Dalam R...   \n",
       "\n",
       "                      Penulis                                Link  \\\n",
       "0              Abidin, Zainal  http://repository.its.ac.id/99166/   \n",
       "1  Abiyyi, Muhammad Zuhdi Afi  http://repository.its.ac.id/98468/   \n",
       "2    Ajipangestu, Drajad Bima  http://repository.its.ac.id/84978/   \n",
       "3      Akbar, Afrizal Laksita  http://repository.its.ac.id/78130/   \n",
       "4                Akbar, Ilham  http://repository.its.ac.id/95744/   \n",
       "\n",
       "                                             Abstrak  \n",
       "0  Malware merupakan perangkat lunak jahat yang d...  \n",
       "1  Pada tahun 2019 seluruh dunia terdampak pandem...  \n",
       "2  Makanan merupakan hal yang selalu dekat dengan...  \n",
       "3  Metode pengenalan identitas dilakukan dengan m...  \n",
       "4  PT. WTR merupakan perusahaan yang bergerak dal...  "
      ]
     },
     "execution_count": 14,
     "metadata": {},
     "output_type": "execute_result"
    }
   ],
   "source": [
    "df.head()"
   ]
  },
  {
   "cell_type": "code",
   "execution_count": 11,
   "metadata": {},
   "outputs": [
    {
     "data": {
      "text/plain": [
       "'Pada tahun 2019 seluruh dunia terdampak pandemi Covid-19, Covid-19 disebabkan oleh SARS-Cov-2 yang merupakan virus jenis baru dari coronavirus atau kelompok virus yang menginfeksi sistem pernafasan. Virus ini akan memberikan dampak yang berbeda-beda pada setiap orang, mulai dari infeksi tanpa gejala, penyakit ringan seperti flu, hingga penyakit kritis seperti pneumonia, atau bahkan kematian. Keragaman ini menyebabkan para dokter khususnya spesialis paru memerlukan tindakan foto rontgen sebagai penunjang dalam proses penegakan diagnosis. Dan peningkatan jumlah pasien tidak sebanding dengan jumlah tenaga kerja yang memiliki kemampuan dalam menginterpretasikan foto rontgen, karena hanya dokter spesialis radiologi yang memiliki kemampuan tersebut, bahkan dokter spesialis paru pun belum tentu bisa menginterpretasikan foto rontgen. Penelitian Tugas Akhir ini dilakukan dengan metode principle component analysis sebagai salah satu cara dalam melakukan reduksi dimensi terhadap data yang diperoleh. Selain itu, penelitian ini juga menggunakan metode support vector machine sebagai salah satu cara dalam melakukan pengklasifikasian jenis-jenis penyakit berdasarkan foto rontgent. Model SVM terbaik yang didapatkan dari percobaan pada tugas akhir adalah model SVM dengan proporsi data 80% data training, 20% data testing, dan ukuran gambar 200x200. Model tersebut mampu menghasilkan akurasi sebesar 83.65%. Hasil dari penelitian ini diharapkan dapat membantu para tenaga medis maupun pasien dalam mengetahui atau mendiagnosis hasil foto rontgennya sedini mungkin dengan hasil yang tepat dan akurat.=================================================================================================================================In 2019 the whole world was affected by the Covid-19 pandemic, Covid-19 was caused by SARS-Cov-2 which is a new type of coronavirus or a group of viruses that infect the respiratory system. This virus will have a different impact on each person, ranging from asymptomatic infections, minor illnesses such as the flu, to critical illnesses such as pneumonia, or even death. This diversity causes doctors, especially pulmonary specialists, to require X-rays as a support in the process of making a diagnosis. And the increase in the number of patients is not proportional to the number of workers who have the ability to interpret X-rays, because only radiology specialists have this ability, even lung specialists may not necessarily be able to interpret X-rays. This Final Project research was conducted using the principle component analysis method as a way of reducing the dimensions of the data obtained. In addition, this study also used the support vector machine method as a way of classifying the types of diseases based on X-rays. The best SVM model obtained from the experiments in the final assignment is the SVM model with the proportion of data 80% training data, 20% testing data, and 200x200 image size. This model is capable of producing an accuracy of 83.65%. The results of this study are expected to assist medical personnel and patients in knowing or diagnosing X-ray results as early as possible with precise and accurate results.'"
      ]
     },
     "execution_count": 11,
     "metadata": {},
     "output_type": "execute_result"
    }
   ],
   "source": [
    "df.loc[1, 'Abstrak']"
   ]
  },
  {
   "cell_type": "markdown",
   "metadata": {},
   "source": [
    "df.missing_value()"
   ]
  },
  {
   "cell_type": "code",
   "execution_count": 13,
   "metadata": {},
   "outputs": [
    {
     "data": {
      "text/plain": [
       "Judul      0\n",
       "Penulis    0\n",
       "Link       0\n",
       "Abstrak    0\n",
       "dtype: int64"
      ]
     },
     "execution_count": 13,
     "metadata": {},
     "output_type": "execute_result"
    }
   ],
   "source": [
    "df.isnull().sum()"
   ]
  },
  {
   "cell_type": "markdown",
   "metadata": {},
   "source": [
    "# EDA Dataset yang sudah dilakukan pra proses"
   ]
  },
  {
   "cell_type": "code",
   "execution_count": 15,
   "metadata": {},
   "outputs": [],
   "source": [
    "praprocessed_dataset = pd.read_csv('preprocessed_dataset.csv')"
   ]
  },
  {
   "cell_type": "code",
   "execution_count": 16,
   "metadata": {},
   "outputs": [
    {
     "data": {
      "text/html": [
       "<div>\n",
       "<style scoped>\n",
       "    .dataframe tbody tr th:only-of-type {\n",
       "        vertical-align: middle;\n",
       "    }\n",
       "\n",
       "    .dataframe tbody tr th {\n",
       "        vertical-align: top;\n",
       "    }\n",
       "\n",
       "    .dataframe thead th {\n",
       "        text-align: right;\n",
       "    }\n",
       "</style>\n",
       "<table border=\"1\" class=\"dataframe\">\n",
       "  <thead>\n",
       "    <tr style=\"text-align: right;\">\n",
       "      <th></th>\n",
       "      <th>Judul</th>\n",
       "      <th>Penulis</th>\n",
       "      <th>Link</th>\n",
       "      <th>Abstrak</th>\n",
       "      <th>Preprocessed_Judul</th>\n",
       "      <th>Preprocessed_Abstrak</th>\n",
       "    </tr>\n",
       "  </thead>\n",
       "  <tbody>\n",
       "    <tr>\n",
       "      <th>0</th>\n",
       "      <td>Sistem Deteksi Android Malware Menggunakan Met...</td>\n",
       "      <td>Abidin, Zainal</td>\n",
       "      <td>http://repository.its.ac.id/99166/</td>\n",
       "      <td>Malware merupakan perangkat lunak jahat yang d...</td>\n",
       "      <td>sistem deteksi android malware metode gated re...</td>\n",
       "      <td>malware perangkat lunak jahat rancang tuju rus...</td>\n",
       "    </tr>\n",
       "    <tr>\n",
       "      <th>1</th>\n",
       "      <td>Klasifikasi Penyakit Berdasarkan Foto Rontgen ...</td>\n",
       "      <td>Abiyyi, Muhammad Zuhdi Afi</td>\n",
       "      <td>http://repository.its.ac.id/98468/</td>\n",
       "      <td>Pada tahun 2019 seluruh dunia terdampak pandem...</td>\n",
       "      <td>klasifikasi sakit dasar foto rontgen thorax me...</td>\n",
       "      <td>2019 dunia dampak pandemi covid19 covid19 seba...</td>\n",
       "    </tr>\n",
       "    <tr>\n",
       "      <th>2</th>\n",
       "      <td>Analisis Sentimen Berdasar Aspek Review Kuline...</td>\n",
       "      <td>Ajipangestu, Drajad Bima</td>\n",
       "      <td>http://repository.its.ac.id/84978/</td>\n",
       "      <td>Makanan merupakan hal yang selalu dekat dengan...</td>\n",
       "      <td>analisis sentimen dasar aspek review kuliner r...</td>\n",
       "      <td>makan iring kembang duduk bisnis kuliner resto...</td>\n",
       "    </tr>\n",
       "    <tr>\n",
       "      <th>3</th>\n",
       "      <td>PENGENALAN WAJAH MENGGUNAKAN METODE DEEP NEURA...</td>\n",
       "      <td>Akbar, Afrizal Laksita</td>\n",
       "      <td>http://repository.its.ac.id/78130/</td>\n",
       "      <td>Metode pengenalan identitas dilakukan dengan m...</td>\n",
       "      <td>kenal wajah metode deep neural networks padu m...</td>\n",
       "      <td>metode kenal identitas wajah sidik jari telapa...</td>\n",
       "    </tr>\n",
       "    <tr>\n",
       "      <th>4</th>\n",
       "      <td>Evaluasi Pemeliharaan Extruder Machine Dalam R...</td>\n",
       "      <td>Akbar, Ilham</td>\n",
       "      <td>http://repository.its.ac.id/95744/</td>\n",
       "      <td>PT. WTR merupakan perusahaan yang bergerak dal...</td>\n",
       "      <td>evaluasi pelihara extruder machine rangka ting...</td>\n",
       "      <td>pt wtr usaha gerak bidang manufaktur produk pi...</td>\n",
       "    </tr>\n",
       "  </tbody>\n",
       "</table>\n",
       "</div>"
      ],
      "text/plain": [
       "                                               Judul  \\\n",
       "0  Sistem Deteksi Android Malware Menggunakan Met...   \n",
       "1  Klasifikasi Penyakit Berdasarkan Foto Rontgen ...   \n",
       "2  Analisis Sentimen Berdasar Aspek Review Kuline...   \n",
       "3  PENGENALAN WAJAH MENGGUNAKAN METODE DEEP NEURA...   \n",
       "4  Evaluasi Pemeliharaan Extruder Machine Dalam R...   \n",
       "\n",
       "                      Penulis                                Link  \\\n",
       "0              Abidin, Zainal  http://repository.its.ac.id/99166/   \n",
       "1  Abiyyi, Muhammad Zuhdi Afi  http://repository.its.ac.id/98468/   \n",
       "2    Ajipangestu, Drajad Bima  http://repository.its.ac.id/84978/   \n",
       "3      Akbar, Afrizal Laksita  http://repository.its.ac.id/78130/   \n",
       "4                Akbar, Ilham  http://repository.its.ac.id/95744/   \n",
       "\n",
       "                                             Abstrak  \\\n",
       "0  Malware merupakan perangkat lunak jahat yang d...   \n",
       "1  Pada tahun 2019 seluruh dunia terdampak pandem...   \n",
       "2  Makanan merupakan hal yang selalu dekat dengan...   \n",
       "3  Metode pengenalan identitas dilakukan dengan m...   \n",
       "4  PT. WTR merupakan perusahaan yang bergerak dal...   \n",
       "\n",
       "                                  Preprocessed_Judul  \\\n",
       "0  sistem deteksi android malware metode gated re...   \n",
       "1  klasifikasi sakit dasar foto rontgen thorax me...   \n",
       "2  analisis sentimen dasar aspek review kuliner r...   \n",
       "3  kenal wajah metode deep neural networks padu m...   \n",
       "4  evaluasi pelihara extruder machine rangka ting...   \n",
       "\n",
       "                                Preprocessed_Abstrak  \n",
       "0  malware perangkat lunak jahat rancang tuju rus...  \n",
       "1  2019 dunia dampak pandemi covid19 covid19 seba...  \n",
       "2  makan iring kembang duduk bisnis kuliner resto...  \n",
       "3  metode kenal identitas wajah sidik jari telapa...  \n",
       "4  pt wtr usaha gerak bidang manufaktur produk pi...  "
      ]
     },
     "execution_count": 16,
     "metadata": {},
     "output_type": "execute_result"
    }
   ],
   "source": [
    "praprocessed_dataset.head()"
   ]
  },
  {
   "cell_type": "code",
   "execution_count": 25,
   "metadata": {},
   "outputs": [
    {
     "name": "stdout",
     "output_type": "stream",
     "text": [
      "Judul:  Klasifikasi Penyakit Berdasarkan Foto Rontgen Thorax Menggunakan Metode Support Vector Machine.\n",
      "Preprocessed judul:  klasifikasi sakit dasar foto rontgen thorax metode support vector machine\n"
     ]
    }
   ],
   "source": [
    "print('Judul: ', df.loc[1, 'Judul'])\n",
    "print('Preprocessed judul: ', praprocessed_dataset.loc[1, 'Preprocessed_Judul'])"
   ]
  },
  {
   "cell_type": "code",
   "execution_count": 26,
   "metadata": {},
   "outputs": [
    {
     "name": "stdout",
     "output_type": "stream",
     "text": [
      "Abstrak:  Pada tahun 2019 seluruh dunia terdampak pandemi Covid-19, Covid-19 disebabkan oleh SARS-Cov-2 yang merupakan virus jenis baru dari coronavirus atau kelompok virus yang menginfeksi sistem pernafasan. Virus ini akan memberikan dampak yang berbeda-beda pada setiap orang, mulai dari infeksi tanpa gejala, penyakit ringan seperti flu, hingga penyakit kritis seperti pneumonia, atau bahkan kematian. Keragaman ini menyebabkan para dokter khususnya spesialis paru memerlukan tindakan foto rontgen sebagai penunjang dalam proses penegakan diagnosis. Dan peningkatan jumlah pasien tidak sebanding dengan jumlah tenaga kerja yang memiliki kemampuan dalam menginterpretasikan foto rontgen, karena hanya dokter spesialis radiologi yang memiliki kemampuan tersebut, bahkan dokter spesialis paru pun belum tentu bisa menginterpretasikan foto rontgen. Penelitian Tugas Akhir ini dilakukan dengan metode principle component analysis sebagai salah satu cara dalam melakukan reduksi dimensi terhadap data yang diperoleh. Selain itu, penelitian ini juga menggunakan metode support vector machine sebagai salah satu cara dalam melakukan pengklasifikasian jenis-jenis penyakit berdasarkan foto rontgent. Model SVM terbaik yang didapatkan dari percobaan pada tugas akhir adalah model SVM dengan proporsi data 80% data training, 20% data testing, dan ukuran gambar 200x200. Model tersebut mampu menghasilkan akurasi sebesar 83.65%. Hasil dari penelitian ini diharapkan dapat membantu para tenaga medis maupun pasien dalam mengetahui atau mendiagnosis hasil foto rontgennya sedini mungkin dengan hasil yang tepat dan akurat.=================================================================================================================================In 2019 the whole world was affected by the Covid-19 pandemic, Covid-19 was caused by SARS-Cov-2 which is a new type of coronavirus or a group of viruses that infect the respiratory system. This virus will have a different impact on each person, ranging from asymptomatic infections, minor illnesses such as the flu, to critical illnesses such as pneumonia, or even death. This diversity causes doctors, especially pulmonary specialists, to require X-rays as a support in the process of making a diagnosis. And the increase in the number of patients is not proportional to the number of workers who have the ability to interpret X-rays, because only radiology specialists have this ability, even lung specialists may not necessarily be able to interpret X-rays. This Final Project research was conducted using the principle component analysis method as a way of reducing the dimensions of the data obtained. In addition, this study also used the support vector machine method as a way of classifying the types of diseases based on X-rays. The best SVM model obtained from the experiments in the final assignment is the SVM model with the proportion of data 80% training data, 20% testing data, and 200x200 image size. This model is capable of producing an accuracy of 83.65%. The results of this study are expected to assist medical personnel and patients in knowing or diagnosing X-ray results as early as possible with precise and accurate results.\n",
      "Preprocessed abstrak:  2019 dunia dampak pandemi covid19 covid19 sebab sarscov2 virus jenis coronavirus kelompok virus infeksi sistem nafas virus dampak berbedabeda orang infeksi gejala sakit ringan flu sakit kritis pneumonia mati ragam sebab dokter spesialis paru tindak foto rontgen tunjang proses tega diagnosis tingkat pasien banding tenaga kerja milik mampu interpretasi foto rontgen dokter spesialis radiologi milik mampu dokter spesialis paru interpretasi foto rontgen teliti tugas metode principle component analysis salah reduksi dimensi data oleh teliti metode support vector machine salah klasifikasi jenisjenis sakit dasar foto rontgent model svm baik dapat coba tugas model svm proporsi data 80 data training 20 data testing ukur gambar 200x200 model hasil akurasi 8365 hasil teliti harap bantu tenaga medis pasien diagnosis hasil foto rontgen din hasil akuratin 2019 the whole world was affected by the covid19 pandemic covid19 was caused by sarscov2 which is a new type of coronavirus or a group of viruses that infect the respiratory system this virus will have a different impact on each person ranging from asymptomatic infections minor illnesses such as the flu to critical illnesses such as pneumonia or even death this diversity causes doctors especially pulmonary specialists to require xrays as a support in the process of making a diagnosis and the increase in the number of patients is not proportional to the number of workers who have the ability to interpret xrays because only radiology specialists have this ability even lung specialists may not necessarily be able to interpret xrays this final project research was conducted using the principle component analysis method as a way of reducing the dimensions of the data obtained in addition this study also used the support vector machine method as a way of classifying the types of diseases based on xrays the best svm model obtained from the experiments in the final assignment is the svm model with the proportion of data 80 training data 20 testing data and 200x200 image size this model is capable of producing an accuracy of 8365 the results of this study are expected to assist medical personnel and patients in knowing or diagnosing xray results as early as possible with precise and accurate results\n"
     ]
    }
   ],
   "source": [
    "print('Abstrak: ', df.loc[1, 'Abstrak'])\n",
    "print('Preprocessed abstrak: ', praprocessed_dataset.loc[1, 'Preprocessed_Abstrak'])"
   ]
  }
 ],
 "metadata": {
  "kernelspec": {
   "display_name": "Python 3",
   "language": "python",
   "name": "python3"
  },
  "language_info": {
   "codemirror_mode": {
    "name": "ipython",
    "version": 3
   },
   "file_extension": ".py",
   "mimetype": "text/x-python",
   "name": "python",
   "nbconvert_exporter": "python",
   "pygments_lexer": "ipython3",
   "version": "3.11.9"
  }
 },
 "nbformat": 4,
 "nbformat_minor": 2
}
