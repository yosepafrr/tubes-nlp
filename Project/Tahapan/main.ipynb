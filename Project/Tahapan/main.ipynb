{
 "cells": [
  {
   "cell_type": "code",
   "execution_count": 13,
   "metadata": {},
   "outputs": [],
   "source": [
    "import pandas as pd\n",
    "import numpy as np\n",
    "from sklearn.feature_extraction.text import TfidfVectorizer\n",
    "from sklearn.metrics.pairwise import cosine_similarity"
   ]
  },
  {
   "cell_type": "code",
   "execution_count": 3,
   "metadata": {},
   "outputs": [
    {
     "name": "stdout",
     "output_type": "stream",
     "text": [
      "TF-IDF Matrix Data Train berhasil dibuat dengan shape: (118, 6137)\n",
      "TF-IDF Matrix Data Test berhasil dibuat dengan shape: (50, 6137)\n"
     ]
    }
   ],
   "source": [
    "df_train = pd.read_csv('../Dataset/preprocessed_dataset.csv')\n",
    "df_test = pd.read_csv('../Dataset/preprocessed_datatest.csv')\n",
    "\n",
    "# Menggabungkan judul dan abstrak supaya representasi dokumen lebih kaya\n",
    "df_train['Combined_Text'] = df_train['Preprocessed_Judul'] + ' ' + df_train['Preprocessed_Abstrak']\n",
    "df_test['Combined_Text'] = df_test['Preprocessed_Judul'] + ' ' + df_test['Preprocessed_Abstrak']\n",
    "\n",
    "# Inisialisasi TF-IDF Vectorizer\n",
    "tfidf_vectorizer = TfidfVectorizer()\n",
    "\n",
    "#Transformasi teks ke bentuk vektor TF-IDF\n",
    "tfidf_train = tfidf_vectorizer.fit_transform(df_train['Combined_Text'])\n",
    "tfidf_test = tfidf_vectorizer.transform(df_test['Combined_Text'])\n",
    "\n",
    "print(f\"TF-IDF Matrix Data Train berhasil dibuat dengan shape: {tfidf_train.shape}\")\n",
    "print(f\"TF-IDF Matrix Data Test berhasil dibuat dengan shape: {tfidf_test.shape}\")\n",
    "\n"
   ]
  },
  {
   "cell_type": "code",
   "execution_count": 4,
   "metadata": {},
   "outputs": [
    {
     "name": "stdout",
     "output_type": "stream",
     "text": [
      "['000000492' '000003964' '00005' ... 'zaman' 'zoho' 'zoning']\n"
     ]
    }
   ],
   "source": [
    "features = tfidf_vectorizer.get_feature_names_out()\n",
    "print(features)"
   ]
  },
  {
   "cell_type": "markdown",
   "metadata": {},
   "source": [
    "# Implementasi Cosine Similarity"
   ]
  },
  {
   "cell_type": "code",
   "execution_count": 5,
   "metadata": {},
   "outputs": [
    {
     "name": "stdout",
     "output_type": "stream",
     "text": [
      "Cosine Similarity Matrix berhasil dibuat!\n",
      "        0         1         2         3         4         5         6    \\\n",
      "0  0.000000  0.178188  0.180143  0.133378  0.116232  0.138143  0.024616   \n",
      "1  0.000000  0.105923  0.085986  0.066409  0.083433  0.123240  0.021429   \n",
      "2  0.002294  0.200175  0.108965  0.159921  0.157242  0.202738  0.028405   \n",
      "3  0.012375  0.152750  0.081778  0.106070  0.096366  0.145304  0.026303   \n",
      "4  0.068089  0.052924  0.030646  0.044614  0.036259  0.051303  0.009300   \n",
      "\n",
      "        7         8         9    ...       108       109       110       111  \\\n",
      "0  0.171968  0.096275  0.173040  ...  0.146621  0.116716  0.128408  0.111293   \n",
      "1  0.083116  0.086977  0.109617  ...  0.099548  0.051532  0.058302  0.081420   \n",
      "2  0.196182  0.192673  0.141047  ...  0.143866  0.153243  0.142900  0.175466   \n",
      "3  0.124841  0.167258  0.114872  ...  0.093453  0.084748  0.133478  0.113935   \n",
      "4  0.050921  0.037484  0.045938  ...  0.048390  0.025657  0.032721  0.046320   \n",
      "\n",
      "        112       113       114       115       116       117  \n",
      "0  0.119252  0.091908  0.124952  0.162686  0.084180  0.035512  \n",
      "1  0.083588  0.067697  0.100060  0.106227  0.062167  0.023402  \n",
      "2  0.124020  0.138666  0.178384  0.212664  0.092959  0.118292  \n",
      "3  0.094617  0.094889  0.300894  0.158331  0.077119  0.048734  \n",
      "4  0.033501  0.038255  0.047236  0.050284  0.036410  0.039781  \n",
      "\n",
      "[5 rows x 118 columns]\n"
     ]
    }
   ],
   "source": [
    "cos_sim = cosine_similarity(tfidf_test, tfidf_train)\n",
    "\n",
    "cos_sim_df = pd.DataFrame(cos_sim)\n",
    "\n",
    "print(\"Cosine Similarity Matrix berhasil dibuat!\")\n",
    "print(cos_sim_df.head())"
   ]
  },
  {
   "cell_type": "markdown",
   "metadata": {},
   "source": [
    "# Fungsi untuk menentukan tingkat kemiripan"
   ]
  },
  {
   "cell_type": "code",
   "execution_count": 6,
   "metadata": {},
   "outputs": [
    {
     "data": {
      "text/html": [
       "<div>\n",
       "<style scoped>\n",
       "    .dataframe tbody tr th:only-of-type {\n",
       "        vertical-align: middle;\n",
       "    }\n",
       "\n",
       "    .dataframe tbody tr th {\n",
       "        vertical-align: top;\n",
       "    }\n",
       "\n",
       "    .dataframe thead th {\n",
       "        text-align: right;\n",
       "    }\n",
       "</style>\n",
       "<table border=\"1\" class=\"dataframe\">\n",
       "  <thead>\n",
       "    <tr style=\"text-align: right;\">\n",
       "      <th></th>\n",
       "      <th>Test_Index</th>\n",
       "      <th>Test_Judul</th>\n",
       "      <th>Most_Similar_Train_Judul</th>\n",
       "      <th>Test_Abstrak</th>\n",
       "      <th>Most_Similar_Train_Abstrak</th>\n",
       "      <th>Similarity_Score</th>\n",
       "    </tr>\n",
       "  </thead>\n",
       "  <tbody>\n",
       "    <tr>\n",
       "      <th>0</th>\n",
       "      <td>0</td>\n",
       "      <td>Implementasi Segmentasi Pakaian Menggunakan Me...</td>\n",
       "      <td>Klasifikasi Tumor Otak Pada Citra MRI Mengguna...</td>\n",
       "      <td>Implementasi Mask R-CNN merupakan pendekatan u...</td>\n",
       "      <td>Tumor otak adalah salah satu penyakit yang pal...</td>\n",
       "      <td>0.3413</td>\n",
       "    </tr>\n",
       "    <tr>\n",
       "      <th>1</th>\n",
       "      <td>1</td>\n",
       "      <td>Sistem Deteksi Android Malware Menggunakan Met...</td>\n",
       "      <td>Rancang Bangun Stetoskop Elektronik Berbasis A...</td>\n",
       "      <td>Malware merupakan perangkat lunak jahat yang d...</td>\n",
       "      <td>Penyakit jantung merupakan salah satu penyebab...</td>\n",
       "      <td>0.2124</td>\n",
       "    </tr>\n",
       "    <tr>\n",
       "      <th>2</th>\n",
       "      <td>2</td>\n",
       "      <td>Klasifikasi Penyakit Berdasarkan Foto Rontgen ...</td>\n",
       "      <td>Analisis Sentimen Masyarakat Indonesia Mengena...</td>\n",
       "      <td>Pada tahun 2019 seluruh dunia terdampak pandem...</td>\n",
       "      <td>World Health Organization (WHO) mendeklarasi-k...</td>\n",
       "      <td>0.3218</td>\n",
       "    </tr>\n",
       "    <tr>\n",
       "      <th>3</th>\n",
       "      <td>3</td>\n",
       "      <td>Analisis Sentimen Berdasar Aspek Review Kuline...</td>\n",
       "      <td>Analisis Sentimen Dan Clustering Pada Pengguna...</td>\n",
       "      <td>Makanan merupakan hal yang selalu dekat dengan...</td>\n",
       "      <td>Tiket.com adalah perusahaan agen untuk pelayan...</td>\n",
       "      <td>0.3009</td>\n",
       "    </tr>\n",
       "    <tr>\n",
       "      <th>4</th>\n",
       "      <td>4</td>\n",
       "      <td>PENGENALAN WAJAH MENGGUNAKAN METODE DEEP NEURA...</td>\n",
       "      <td>Identifikasi  dan Klasifikasi  Tingkat Ketidak...</td>\n",
       "      <td>Metode pengenalan identitas dilakukan dengan m...</td>\n",
       "      <td>Tugas akhir ini membahas tentang pengidentifik...</td>\n",
       "      <td>0.2484</td>\n",
       "    </tr>\n",
       "  </tbody>\n",
       "</table>\n",
       "</div>"
      ],
      "text/plain": [
       "   Test_Index                                         Test_Judul  \\\n",
       "0           0  Implementasi Segmentasi Pakaian Menggunakan Me...   \n",
       "1           1  Sistem Deteksi Android Malware Menggunakan Met...   \n",
       "2           2  Klasifikasi Penyakit Berdasarkan Foto Rontgen ...   \n",
       "3           3  Analisis Sentimen Berdasar Aspek Review Kuline...   \n",
       "4           4  PENGENALAN WAJAH MENGGUNAKAN METODE DEEP NEURA...   \n",
       "\n",
       "                            Most_Similar_Train_Judul  \\\n",
       "0  Klasifikasi Tumor Otak Pada Citra MRI Mengguna...   \n",
       "1  Rancang Bangun Stetoskop Elektronik Berbasis A...   \n",
       "2  Analisis Sentimen Masyarakat Indonesia Mengena...   \n",
       "3  Analisis Sentimen Dan Clustering Pada Pengguna...   \n",
       "4  Identifikasi  dan Klasifikasi  Tingkat Ketidak...   \n",
       "\n",
       "                                        Test_Abstrak  \\\n",
       "0  Implementasi Mask R-CNN merupakan pendekatan u...   \n",
       "1  Malware merupakan perangkat lunak jahat yang d...   \n",
       "2  Pada tahun 2019 seluruh dunia terdampak pandem...   \n",
       "3  Makanan merupakan hal yang selalu dekat dengan...   \n",
       "4  Metode pengenalan identitas dilakukan dengan m...   \n",
       "\n",
       "                          Most_Similar_Train_Abstrak  Similarity_Score  \n",
       "0  Tumor otak adalah salah satu penyakit yang pal...            0.3413  \n",
       "1  Penyakit jantung merupakan salah satu penyebab...            0.2124  \n",
       "2  World Health Organization (WHO) mendeklarasi-k...            0.3218  \n",
       "3  Tiket.com adalah perusahaan agen untuk pelayan...            0.3009  \n",
       "4  Tugas akhir ini membahas tentang pengidentifik...            0.2484  "
      ]
     },
     "execution_count": 6,
     "metadata": {},
     "output_type": "execute_result"
    }
   ],
   "source": [
    "results = []\n",
    "\n",
    "for i, test_row in enumerate(cos_sim):\n",
    "    top_match_idx = test_row.argmax()\n",
    "    top_score = test_row[top_match_idx]\n",
    "\n",
    "    results.append({\n",
    "        'Test_Index': i,\n",
    "        'Test_Judul': df_test.loc[i, 'Judul'],\n",
    "        'Most_Similar_Train_Judul': df_train.loc[top_match_idx, 'Judul'],\n",
    "        'Test_Abstrak': df_test.loc[i, 'Abstrak'],\n",
    "        'Most_Similar_Train_Abstrak': df_train.loc[top_match_idx, 'Abstrak'],\n",
    "        'Similarity_Score': round(top_score, 4)\n",
    "    })\n",
    "\n",
    "similarity_df = pd.DataFrame(results)\n",
    "\n",
    "similarity_df.head()"
   ]
  },
  {
   "cell_type": "code",
   "execution_count": 7,
   "metadata": {},
   "outputs": [],
   "source": [
    "#similarity_df.to_csv('hasil_kemiripan_test_vs_train_dengan_abstrak.csv', index=False, encoding='utf-8-sig')"
   ]
  },
  {
   "cell_type": "markdown",
   "metadata": {},
   "source": [
    "# Evaluasi Model"
   ]
  },
  {
   "cell_type": "code",
   "execution_count": 14,
   "metadata": {},
   "outputs": [],
   "source": [
    "from sklearn.metrics import confusion_matrix, classification_report\n",
    "import seaborn as sns\n",
    "import matplotlib.pyplot as plt"
   ]
  },
  {
   "cell_type": "markdown",
   "metadata": {},
   "source": [
    "# Labeling pada data tes\n",
    "Labeling dilakukan secara manual pada 50 data tes yang bertujuan agar pelabelan tetap objektif."
   ]
  },
  {
   "cell_type": "code",
   "execution_count": 9,
   "metadata": {},
   "outputs": [],
   "source": [
    "labels = [0] * 50\n",
    "\n",
    "target_indices = [7, 18, 29, 31, 35, 46]\n",
    "for idx in target_indices:\n",
    "    labels[idx] = 1\n",
    "\n",
    "df_test['Label'] = labels\n",
    "\n",
    "df_test.to_csv('preprocessed_datatest_labeled.csv', index=False, encoding='utf-8-sig')"
   ]
  },
  {
   "cell_type": "code",
   "execution_count": 19,
   "metadata": {},
   "outputs": [
    {
     "name": "stdout",
     "output_type": "stream",
     "text": [
      "[[44  0]\n",
      " [ 3  3]]\n",
      "              precision    recall  f1-score   support\n",
      "\n",
      "           0       0.94      1.00      0.97        44\n",
      "           1       1.00      0.50      0.67         6\n",
      "\n",
      "    accuracy                           0.94        50\n",
      "   macro avg       0.97      0.75      0.82        50\n",
      "weighted avg       0.94      0.94      0.93        50\n",
      "\n"
     ]
    },
    {
     "data": {
      "image/png": "[encoded data removed]",
      "text/plain": [
       "<Figure size 600x400 with 2 Axes>"
      ]
     },
     "metadata": {},
     "output_type": "display_data"
    }
   ],
   "source": [
    "labeled_df_test = pd.read_csv('../Dataset/preprocessed_datatest_labeled.csv')\n",
    "\n",
    "max_cos_sim = np.max(cos_sim, axis=1)\n",
    "\n",
    "y_true = labeled_df_test['Label']\n",
    "y_pred = (max_cos_sim >= 0.5).astype(int)\n",
    "\n",
    "conf_matrix = confusion_matrix(y_true, y_pred)\n",
    "class_report = classification_report(y_true, y_pred)\n",
    "\n",
    "print(conf_matrix)\n",
    "print(class_report)\n",
    "# Buat heatmap\n",
    "plt.figure(figsize=(6, 4))\n",
    "sns.heatmap(conf_matrix, annot=True, fmt='d', cmap='Blues', xticklabels=['Tidak Plagiat', 'Plagiat'], yticklabels=['Tidak Plagiat', 'Plagiat'])\n",
    "plt.xlabel('Predicted')\n",
    "plt.ylabel('Actual')\n",
    "plt.title('Confusion Matrix')\n",
    "plt.show()"
   ]
  },
  {
   "cell_type": "code",
   "execution_count": 16,
   "metadata": {},
   "outputs": [
    {
     "data": {
      "text/html": [
       "<div>\n",
       "<style scoped>\n",
       "    .dataframe tbody tr th:only-of-type {\n",
       "        vertical-align: middle;\n",
       "    }\n",
       "\n",
       "    .dataframe tbody tr th {\n",
       "        vertical-align: top;\n",
       "    }\n",
       "\n",
       "    .dataframe thead th {\n",
       "        text-align: right;\n",
       "    }\n",
       "</style>\n",
       "<table border=\"1\" class=\"dataframe\">\n",
       "  <thead>\n",
       "    <tr style=\"text-align: right;\">\n",
       "      <th></th>\n",
       "      <th>Judul</th>\n",
       "      <th>Penulis</th>\n",
       "      <th>Link</th>\n",
       "      <th>Abstrak</th>\n",
       "      <th>Preprocessed_Judul</th>\n",
       "      <th>Preprocessed_Abstrak</th>\n",
       "      <th>Combined_Text</th>\n",
       "      <th>Label</th>\n",
       "      <th>Similarity_Score</th>\n",
       "      <th>Prediksi</th>\n",
       "    </tr>\n",
       "  </thead>\n",
       "  <tbody>\n",
       "    <tr>\n",
       "      <th>0</th>\n",
       "      <td>Implementasi Segmentasi Pakaian Menggunakan Me...</td>\n",
       "      <td>Gita, Kartika Diva Asmara</td>\n",
       "      <td>http://repository.its.ac.id/116398/</td>\n",
       "      <td>Implementasi Mask R-CNN merupakan pendekatan u...</td>\n",
       "      <td>implementasi segmentasi pakai metode mask rcnn</td>\n",
       "      <td>implementasi mask rcnn dekat segmentasi objek ...</td>\n",
       "      <td>implementasi segmentasi pakai metode mask rcnn...</td>\n",
       "      <td>0</td>\n",
       "      <td>0.341320</td>\n",
       "      <td>0</td>\n",
       "    </tr>\n",
       "    <tr>\n",
       "      <th>1</th>\n",
       "      <td>Sistem Deteksi Android Malware Menggunakan Met...</td>\n",
       "      <td>Abidin, Zainal</td>\n",
       "      <td>http://repository.its.ac.id/99166/</td>\n",
       "      <td>Malware merupakan perangkat lunak jahat yang d...</td>\n",
       "      <td>sistem deteksi android malware metode gated re...</td>\n",
       "      <td>malware perangkat lunak jahat rancang tuju rus...</td>\n",
       "      <td>sistem deteksi android malware metode gated re...</td>\n",
       "      <td>0</td>\n",
       "      <td>0.212385</td>\n",
       "      <td>0</td>\n",
       "    </tr>\n",
       "    <tr>\n",
       "      <th>2</th>\n",
       "      <td>Klasifikasi Penyakit Berdasarkan Foto Rontgen ...</td>\n",
       "      <td>Abiyyi, Muhammad Zuhdi Afi</td>\n",
       "      <td>http://repository.its.ac.id/98468/</td>\n",
       "      <td>Pada tahun 2019 seluruh dunia terdampak pandem...</td>\n",
       "      <td>klasifikasi sakit dasar foto rontgen thorax me...</td>\n",
       "      <td>2019 dunia dampak pandemi covid19 covid19 seba...</td>\n",
       "      <td>klasifikasi sakit dasar foto rontgen thorax me...</td>\n",
       "      <td>0</td>\n",
       "      <td>0.321777</td>\n",
       "      <td>0</td>\n",
       "    </tr>\n",
       "    <tr>\n",
       "      <th>3</th>\n",
       "      <td>Analisis Sentimen Berdasar Aspek Review Kuline...</td>\n",
       "      <td>Ajipangestu, Drajad Bima</td>\n",
       "      <td>http://repository.its.ac.id/84978/</td>\n",
       "      <td>Makanan merupakan hal yang selalu dekat dengan...</td>\n",
       "      <td>analisis sentimen dasar aspek review kuliner r...</td>\n",
       "      <td>makan iring kembang duduk bisnis kuliner resto...</td>\n",
       "      <td>analisis sentimen dasar aspek review kuliner r...</td>\n",
       "      <td>0</td>\n",
       "      <td>0.300894</td>\n",
       "      <td>0</td>\n",
       "    </tr>\n",
       "    <tr>\n",
       "      <th>4</th>\n",
       "      <td>PENGENALAN WAJAH MENGGUNAKAN METODE DEEP NEURA...</td>\n",
       "      <td>Akbar, Afrizal Laksita</td>\n",
       "      <td>http://repository.its.ac.id/78130/</td>\n",
       "      <td>Metode pengenalan identitas dilakukan dengan m...</td>\n",
       "      <td>kenal wajah metode deep neural networks padu m...</td>\n",
       "      <td>metode kenal identitas wajah sidik jari telapa...</td>\n",
       "      <td>kenal wajah metode deep neural networks padu m...</td>\n",
       "      <td>0</td>\n",
       "      <td>0.248448</td>\n",
       "      <td>0</td>\n",
       "    </tr>\n",
       "  </tbody>\n",
       "</table>\n",
       "</div>"
      ],
      "text/plain": [
       "                                               Judul  \\\n",
       "0  Implementasi Segmentasi Pakaian Menggunakan Me...   \n",
       "1  Sistem Deteksi Android Malware Menggunakan Met...   \n",
       "2  Klasifikasi Penyakit Berdasarkan Foto Rontgen ...   \n",
       "3  Analisis Sentimen Berdasar Aspek Review Kuline...   \n",
       "4  PENGENALAN WAJAH MENGGUNAKAN METODE DEEP NEURA...   \n",
       "\n",
       "                      Penulis                                 Link  \\\n",
       "0   Gita, Kartika Diva Asmara  http://repository.its.ac.id/116398/   \n",
       "1              Abidin, Zainal   http://repository.its.ac.id/99166/   \n",
       "2  Abiyyi, Muhammad Zuhdi Afi   http://repository.its.ac.id/98468/   \n",
       "3    Ajipangestu, Drajad Bima   http://repository.its.ac.id/84978/   \n",
       "4      Akbar, Afrizal Laksita   http://repository.its.ac.id/78130/   \n",
       "\n",
       "                                             Abstrak  \\\n",
       "0  Implementasi Mask R-CNN merupakan pendekatan u...   \n",
       "1  Malware merupakan perangkat lunak jahat yang d...   \n",
       "2  Pada tahun 2019 seluruh dunia terdampak pandem...   \n",
       "3  Makanan merupakan hal yang selalu dekat dengan...   \n",
       "4  Metode pengenalan identitas dilakukan dengan m...   \n",
       "\n",
       "                                  Preprocessed_Judul  \\\n",
       "0     implementasi segmentasi pakai metode mask rcnn   \n",
       "1  sistem deteksi android malware metode gated re...   \n",
       "2  klasifikasi sakit dasar foto rontgen thorax me...   \n",
       "3  analisis sentimen dasar aspek review kuliner r...   \n",
       "4  kenal wajah metode deep neural networks padu m...   \n",
       "\n",
       "                                Preprocessed_Abstrak  \\\n",
       "0  implementasi mask rcnn dekat segmentasi objek ...   \n",
       "1  malware perangkat lunak jahat rancang tuju rus...   \n",
       "2  2019 dunia dampak pandemi covid19 covid19 seba...   \n",
       "3  makan iring kembang duduk bisnis kuliner resto...   \n",
       "4  metode kenal identitas wajah sidik jari telapa...   \n",
       "\n",
       "                                       Combined_Text  Label  Similarity_Score  \\\n",
       "0  implementasi segmentasi pakai metode mask rcnn...      0          0.341320   \n",
       "1  sistem deteksi android malware metode gated re...      0          0.212385   \n",
       "2  klasifikasi sakit dasar foto rontgen thorax me...      0          0.321777   \n",
       "3  analisis sentimen dasar aspek review kuliner r...      0          0.300894   \n",
       "4  kenal wajah metode deep neural networks padu m...      0          0.248448   \n",
       "\n",
       "   Prediksi  \n",
       "0         0  \n",
       "1         0  \n",
       "2         0  \n",
       "3         0  \n",
       "4         0  "
      ]
     },
     "execution_count": 16,
     "metadata": {},
     "output_type": "execute_result"
    }
   ],
   "source": [
    "labeled_df_test['Similarity_Score'] = max_cos_sim\n",
    "labeled_df_test['Prediksi'] = y_pred\n",
    "\n",
    "labeled_df_test.head()"
   ]
  },
  {
   "cell_type": "code",
   "execution_count": null,
   "metadata": {},
   "outputs": [],
   "source": []
  }
 ],
 "metadata": {
  "kernelspec": {
   "display_name": "Python 3",
   "language": "python",
   "name": "python3"
  },
  "language_info": {
   "codemirror_mode": {
    "name": "ipython",
    "version": 3
   },
   "file_extension": ".py",
   "mimetype": "text/x-python",
   "name": "python",
   "nbconvert_exporter": "python",
   "pygments_lexer": "ipython3",
   "version": "3.11.9"
  }
 },
 "nbformat": 4,
 "nbformat_minor": 2
}
