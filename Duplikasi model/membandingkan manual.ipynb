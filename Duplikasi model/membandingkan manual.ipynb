{
 "cells": [
  {
   "cell_type": "code",
   "execution_count": 80,
   "metadata": {},
   "outputs": [],
   "source": [
    "import pandas as pd\n",
    "import numpy as np\n",
    "from sklearn.feature_extraction.text import TfidfVectorizer\n",
    "from sklearn.metrics.pairwise import cosine_similarity\n",
    "\n",
    "df_train = pd.read_csv('preprocessed_dataset.csv')\n",
    "df_test = pd.read_csv('preprocessed_datatest.csv')\n",
    "\n"
   ]
  },
  {
   "cell_type": "code",
   "execution_count": 81,
   "metadata": {},
   "outputs": [],
   "source": [
    "# Ambil teks gabungan dari indeks 0 dan 9\n",
    "doc_1 = df_test.loc[0, 'Preprocessed_Abstrak'] \n",
    "doc_2 = df_train.loc[97, 'Preprocessed_Abstrak'] \n",
    "\n",
    "judul_1 = df_test.loc[0, 'Judul'] \n",
    "judul_2 = df_train.loc[97, 'Judul'] \n"
   ]
  },
  {
   "cell_type": "code",
   "execution_count": 82,
   "metadata": {},
   "outputs": [],
   "source": [
    "from sklearn.feature_extraction.text import TfidfVectorizer\n",
    "from sklearn.metrics.pairwise import cosine_similarity\n",
    "\n",
    "# Buat vektor TF-IDF dari dua dokumen\n",
    "tfidf_vectorizer = TfidfVectorizer()\n",
    "tfidf_matrix = tfidf_vectorizer.fit_transform([doc_1, doc_2])\n"
   ]
  },
  {
   "cell_type": "code",
   "execution_count": 83,
   "metadata": {},
   "outputs": [
    {
     "data": {
      "text/html": [
       "<div>\n",
       "<style scoped>\n",
       "    .dataframe tbody tr th:only-of-type {\n",
       "        vertical-align: middle;\n",
       "    }\n",
       "\n",
       "    .dataframe tbody tr th {\n",
       "        vertical-align: top;\n",
       "    }\n",
       "\n",
       "    .dataframe thead th {\n",
       "        text-align: right;\n",
       "    }\n",
       "</style>\n",
       "<table border=\"1\" class=\"dataframe\">\n",
       "  <thead>\n",
       "    <tr style=\"text-align: right;\">\n",
       "      <th></th>\n",
       "      <th>Judul_1</th>\n",
       "      <th>Judul_2</th>\n",
       "      <th>Similarity_Abstract</th>\n",
       "    </tr>\n",
       "  </thead>\n",
       "  <tbody>\n",
       "    <tr>\n",
       "      <th>0</th>\n",
       "      <td>Implementasi Segmentasi Pakaian Menggunakan Me...</td>\n",
       "      <td>Klasifikasi Tumor Otak Pada Citra MRI Mengguna...</td>\n",
       "      <td>0.4807</td>\n",
       "    </tr>\n",
       "  </tbody>\n",
       "</table>\n",
       "</div>"
      ],
      "text/plain": [
       "                                             Judul_1  \\\n",
       "0  Implementasi Segmentasi Pakaian Menggunakan Me...   \n",
       "\n",
       "                                             Judul_2  Similarity_Abstract  \n",
       "0  Klasifikasi Tumor Otak Pada Citra MRI Mengguna...               0.4807  "
      ]
     },
     "execution_count": 83,
     "metadata": {},
     "output_type": "execute_result"
    }
   ],
   "source": [
    "# Hitung cosine similarity\n",
    "similarity_score = cosine_similarity(tfidf_matrix[0], tfidf_matrix[1])[0][0]\n",
    "manual_compare_df = pd.DataFrame([{\n",
    "    'Judul_1': judul_1,\n",
    "    'Judul_2': judul_2,\n",
    "    'Similarity_Abstract': round(similarity_score, 4)\n",
    "}])\n",
    "\n",
    "# Tampilkan hasil\n",
    "manual_compare_df\n"
   ]
  },
  {
   "cell_type": "code",
   "execution_count": null,
   "metadata": {},
   "outputs": [],
   "source": []
  }
 ],
 "metadata": {
  "kernelspec": {
   "display_name": "Python 3",
   "language": "python",
   "name": "python3"
  },
  "language_info": {
   "codemirror_mode": {
    "name": "ipython",
    "version": 3
   },
   "file_extension": ".py",
   "mimetype": "text/x-python",
   "name": "python",
   "nbconvert_exporter": "python",
   "pygments_lexer": "ipython3",
   "version": "3.11.9"
  }
 },
 "nbformat": 4,
 "nbformat_minor": 2
}
