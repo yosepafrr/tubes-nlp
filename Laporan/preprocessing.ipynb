{
 "cells": [
  {
   "cell_type": "code",
   "execution_count": 2,
   "metadata": {},
   "outputs": [
    {
     "name": "stderr",
     "output_type": "stream",
     "text": [
      "[nltk_data] Downloading package punkt to\n",
      "[nltk_data]     C:\\Users\\yosep\\AppData\\Roaming\\nltk_data...\n",
      "[nltk_data]   Package punkt is already up-to-date!\n",
      "[nltk_data] Downloading package stopwords to\n",
      "[nltk_data]     C:\\Users\\yosep\\AppData\\Roaming\\nltk_data...\n",
      "[nltk_data]   Package stopwords is already up-to-date!\n"
     ]
    }
   ],
   "source": [
    "import pandas as pd\n",
    "import nltk\n",
    "from Sastrawi.Stemmer.StemmerFactory import StemmerFactory\n",
    "from nltk.tokenize import word_tokenize\n",
    "from nltk.corpus import stopwords\n",
    "import string\n",
    "\n",
    "nltk.download('punkt')\n",
    "nltk.download('stopwords')\n",
    "\n",
    "df = pd.read_csv('../Project/Dataset/hasil_scraping_skripsi.csv')\n",
    "\n",
    "factory = StemmerFactory()\n",
    "stemmer = factory.create_stemmer()\n",
    "\n",
    "stop_words = set(stopwords.words('indonesian'))"
   ]
  },
  {
   "cell_type": "code",
   "execution_count": 3,
   "metadata": {},
   "outputs": [],
   "source": [
    "#Case folding, mengubah semua huruf menjadi kecil dan menghapus simbol.\n",
    "def case_folding(text):\n",
    "    text = text.lower()\n",
    "\n",
    "    text = text.translate(str.maketrans('', '', string.punctuation))\n",
    "\n",
    "    return text\n",
    "\n",
    "df['casefolding_judul'] = df['Judul'].apply(case_folding)\n",
    "df['casefolding_abstrak'] = df['Abstrak'].apply(case_folding)\n",
    "\n",
    "\n",
    "#df.to_csv('casefolded_dataset.csv', index=False, encoding='utf-8-sig')\n"
   ]
  },
  {
   "cell_type": "code",
   "execution_count": 7,
   "metadata": {},
   "outputs": [],
   "source": [
    "#Tokenizing, tahap untuk memisahkan atau memecah teks menjadi bagian–bagian kata yang disebut token.\n",
    "def tokenizing(text):\n",
    "    tokens = word_tokenize(text)\n",
    "\n",
    "    return tokens\n",
    "\n",
    "df['tokenizing_judul'] = df['casefolding_judul'].apply(tokenizing)\n",
    "df['tokenizing_abstrak'] = df['casefolding_abstrak'].apply(tokenizing)\n",
    "\n",
    "df.to_csv('tokenized_dataset.csv', index=False, encoding='utf-8-sig')\n",
    "\n",
    "\n"
   ]
  },
  {
   "cell_type": "code",
   "execution_count": 10,
   "metadata": {},
   "outputs": [],
   "source": [
    "#Stopword removal, tahap menghapus kata yang tidak relevan didalam suatu kalimat berdasarkan daftar stopword.\n",
    "def stopword_removal(text):\n",
    "    tokens = word_tokenize(text)\n",
    "    tokens = [word for word in tokens if word not in stop_words]\n",
    "\n",
    "    return tokens\n",
    "\n",
    "df['stopword_removal_judul'] = df['casefolding_judul'].apply(stopword_removal)\n",
    "df['stopword_removal_abstrak'] = df['casefolding_abstrak'].apply(stopword_removal)\n",
    "\n",
    "\n",
    "df.to_csv('stopword_removed_dataset.csv', index=False, encoding='utf-8-sig')\n",
    "\n"
   ]
  },
  {
   "cell_type": "code",
   "execution_count": 11,
   "metadata": {},
   "outputs": [],
   "source": [
    "#Stemming, proses yang sangat penting untuk mencari kata dasar dari sebuah kata derivatif.\n",
    "def stemming(text):\n",
    "    tokens = word_tokenize(text)\n",
    "    tokens = [word for word in tokens if word not in stop_words]\n",
    "    tokens = [stemmer.stem(word) for word in tokens]\n",
    "\n",
    "    return tokens\n",
    "\n",
    "df['stemming_judul'] = df['casefolding_judul'].apply(stemming)\n",
    "df['stemming_abstrak'] = df['casefolding_abstrak'].apply(stemming)\n",
    "\n",
    "\n",
    "df.to_csv('stemmed_dataset.csv', index=False, encoding='utf-8-sig')\n"
   ]
  }
 ],
 "metadata": {
  "kernelspec": {
   "display_name": "Python 3",
   "language": "python",
   "name": "python3"
  },
  "language_info": {
   "codemirror_mode": {
    "name": "ipython",
    "version": 3
   },
   "file_extension": ".py",
   "mimetype": "text/x-python",
   "name": "python",
   "nbconvert_exporter": "python",
   "pygments_lexer": "ipython3",
   "version": "3.11.9"
  }
 },
 "nbformat": 4,
 "nbformat_minor": 2
}
