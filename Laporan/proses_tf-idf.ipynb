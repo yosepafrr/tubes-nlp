{
 "cells": [
  {
   "cell_type": "code",
   "execution_count": 25,
   "metadata": {},
   "outputs": [
    {
     "name": "stdout",
     "output_type": "stream",
     "text": [
      "            Term  TF\n",
      "3552  minimarket   8\n",
      "5669     tingkat   7\n",
      "3135     langgan   6\n",
      "3172       layan   5\n",
      "1007       bobot   4\n"
     ]
    }
   ],
   "source": [
    "#menghitung tf\n",
    "import pandas as pd\n",
    "from sklearn.feature_extraction.text import CountVectorizer\n",
    "from sklearn.feature_extraction.text import TfidfVectorizer\n",
    "\n",
    "df_train = pd.read_csv('../Project/Dataset/preprocessed_dataset.csv')\n",
    "\n",
    "df_train['Combined_Text'] = df_train['Preprocessed_Judul'] + ' ' + df_train['Preprocessed_Abstrak']\n",
    "\n",
    "count_vectorizer = CountVectorizer()\n",
    "count_matrix = count_vectorizer.fit_transform(df_train['Combined_Text'])\n",
    "\n",
    "feature_names = count_vectorizer.get_feature_names_out()\n",
    "\n",
    "doc_index = 24\n",
    "tf_vector = count_matrix[doc_index].toarray()[0]\n",
    "tf_df = pd.DataFrame({'Term': feature_names, 'TF': tf_vector})\n",
    "tf_df = tf_df[tf_df['TF'] > 0].sort_values(by='TF', ascending=False)\n",
    "\n",
    "print(tf_df.head())"
   ]
  },
  {
   "cell_type": "code",
   "execution_count": 26,
   "metadata": {},
   "outputs": [],
   "source": [
    "tfidf_vectorizer = TfidfVectorizer()\n",
    "tfidf_train = tfidf_vectorizer.fit_transform(df_train['Combined_Text'])"
   ]
  },
  {
   "cell_type": "code",
   "execution_count": 31,
   "metadata": {},
   "outputs": [
    {
     "name": "stdout",
     "output_type": "stream",
     "text": [
      "         Term   DF\n",
      "5612      the  104\n",
      "629       and  104\n",
      "3858       of  103\n",
      "2632       in  103\n",
      "5681       to  103\n",
      "2479    hasil  101\n",
      "2821       is   99\n",
      "6090     with   98\n",
      "5631     this   97\n",
      "5611     that   93\n",
      "5918    using   90\n",
      "5553   teliti   88\n",
      "1080       by   84\n",
      "3522   metode   83\n",
      "3878       on   82\n",
      "728        as   77\n",
      "710       are   77\n",
      "2231      for   77\n",
      "3590    model   77\n",
      "1104      can   74\n",
      "2280     from   73\n",
      "4733  results   73\n",
      "610        an   70\n",
      "1512     data   69\n",
      "5910     used   67\n"
     ]
    }
   ],
   "source": [
    "#Menghitung Document Frequency (DF)\n",
    "df_counts = (tfidf_train > 0).sum(axis=0).A1\n",
    "\n",
    "df_df = pd.DataFrame({'Term': feature_names, 'DF': df_counts})\n",
    "print(df_df.sort_values(by='DF', ascending=False).head(25))\n"
   ]
  },
  {
   "cell_type": "code",
   "execution_count": 43,
   "metadata": {},
   "outputs": [
    {
     "name": "stdout",
     "output_type": "stream",
     "text": [
      "Term 'machine' muncul 47 kali di indeks dokumen: [  1   3   4   5   8  10  11  17  19  25  31  39  40  41  42  44  48  51\n",
      "  52  53  55  59  60  64  66  67  73  74  75  78  87  88  90  91  96  98\n",
      "  99 103 104 105 107 108 111 113 114 115 117]\n"
     ]
    }
   ],
   "source": [
    "term = 'machine'\n",
    "\n",
    "# Pastikan term ada di daftar fitur\n",
    "if term in feature_names:\n",
    "    # Dapatkan indeks kolom dari term\n",
    "    term_index = list(feature_names).index(term)\n",
    "\n",
    "    # Ambil indeks dokumen di mana term muncul (TF-IDF > 0)\n",
    "    doc_indices = tfidf_train[:, term_index].nonzero()[0]\n",
    "\n",
    "    # Hitung jumlah kemunculan (bukan total TF, tapi jumlah dokumen tempat term muncul)\n",
    "    count = len(doc_indices)\n",
    "\n",
    "    # Cetak hasil\n",
    "    print(f\"Term '{term}' muncul {count} kali di indeks dokumen: {doc_indices}\")\n",
    "else:\n",
    "    print(f\"Term '{term}' tidak ditemukan dalam fitur.\")\n"
   ]
  },
  {
   "cell_type": "code",
   "execution_count": 44,
   "metadata": {},
   "outputs": [
    {
     "name": "stdout",
     "output_type": "stream",
     "text": [
      "              Term       IDF\n",
      "0        000000492  5.085976\n",
      "3550         minim  5.085976\n",
      "3565        miring  5.085976\n",
      "3564    miokardium  5.085976\n",
      "3562  minuterpmdan  5.085976\n",
      "3558     minoritas  5.085976\n",
      "3556   miningbased  5.085976\n",
      "3552    minimarket  5.085976\n",
      "3549     minibatch  5.085976\n",
      "3534    microphone  5.085976\n"
     ]
    }
   ],
   "source": [
    "#Mencari IDF\n",
    "import pandas as pd\n",
    "\n",
    "# Mendapatkan daftar fitur (kata-kata)\n",
    "feature_names = tfidf_vectorizer.get_feature_names_out()\n",
    "\n",
    "# Mendapatkan nilai IDF\n",
    "idf_values = tfidf_vectorizer.idf_\n",
    "\n",
    "# Gabungkan ke dalam DataFrame\n",
    "idf_df = pd.DataFrame({'Term': feature_names, 'IDF': idf_values})\n",
    "\n",
    "# Lihat beberapa contoh\n",
    "print(idf_df.sort_values(by='IDF', ascending=False).head(10))  # Term paling jarang muncul\n"
   ]
  },
  {
   "cell_type": "code",
   "execution_count": 49,
   "metadata": {},
   "outputs": [
    {
     "name": "stdout",
     "output_type": "stream",
     "text": [
      "IDF dari term 'machine' adalah: 1.9079224822036385\n"
     ]
    }
   ],
   "source": [
    "term = 'machine'\n",
    "\n",
    "# Cek apakah term ada di DataFrame\n",
    "idf_row = idf_df[idf_df['Term'] == term]\n",
    "\n",
    "if not idf_row.empty:\n",
    "    idf_value = idf_row['IDF'].values[0]\n",
    "    print(f\"IDF dari term '{term}' adalah: {idf_value}\")\n",
    "else:\n",
    "    print(f\"Term '{term}' tidak ditemukan dalam fitur.\")\n"
   ]
  }
 ],
 "metadata": {
  "kernelspec": {
   "display_name": "Python 3",
   "language": "python",
   "name": "python3"
  },
  "language_info": {
   "codemirror_mode": {
    "name": "ipython",
    "version": 3
   },
   "file_extension": ".py",
   "mimetype": "text/x-python",
   "name": "python",
   "nbconvert_exporter": "python",
   "pygments_lexer": "ipython3",
   "version": "3.11.9"
  }
 },
 "nbformat": 4,
 "nbformat_minor": 2
}
